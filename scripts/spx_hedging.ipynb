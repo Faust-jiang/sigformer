{
  "cells": [
    {
      "cell_type": "code",
      "source": [
        "!pip install equinox\n",
        "!pip install signax"
      ],
      "metadata": {
        "id": "AGa5SIW8L5IW"
      },
      "execution_count": null,
      "outputs": []
    },
    {
      "cell_type": "code",
      "source": [
        "!git clone https://github.com/Faust-jiang/sigformer.git"
      ],
      "metadata": {
        "id": "vFolntQ4L9QJ",
        "outputId": "cdaab424-2ffd-4911-8304-7b8ad1639f98",
        "colab": {
          "base_uri": "https://localhost:8080/"
        }
      },
      "execution_count": 1,
      "outputs": [
        {
          "output_type": "stream",
          "name": "stdout",
          "text": [
            "fatal: destination path 'sigformer' already exists and is not an empty directory.\n"
          ]
        }
      ]
    },
    {
      "cell_type": "code",
      "execution_count": null,
      "metadata": {
        "id": "DUqwgTudK8YY"
      },
      "outputs": [],
      "source": [
        "import os\n",
        "import pickle\n",
        "\n",
        "import equinox as eqx\n",
        "import jax\n",
        "import jax.numpy as jnp\n",
        "import jax.random as jrandom\n",
        "import matplotlib.pyplot as plt\n",
        "import numpy as np\n",
        "import optax\n",
        "import pandas as pd\n",
        "from sigformer.hedger import DeepHedger, SigHedger\n",
        "from sigformer.hedger.delta_hedger import HestonDeltaHedger, RBergomiDeltaHedger  # noqa\n",
        "from sigformer.instruments.derivative import EuropeanOption, VarianceSwap\n",
        "from sigformer.instruments.primary import RoughBergomiStock\n",
        "from sigformer.loss import BaseCriterion\n",
        "from tqdm import tqdm\n",
        "from pathlib import Path"
      ]
    },
    {
      "cell_type": "markdown",
      "metadata": {
        "id": "q2lHgF64K8Ya"
      },
      "source": [
        "### Load data"
      ]
    },
    {
      "cell_type": "code",
      "execution_count": null,
      "metadata": {
        "id": "WX8CTyxGK8Yb",
        "outputId": "b4925df3-7854-48ca-b720-84192ebddd30"
      },
      "outputs": [
        {
          "data": {
            "text/plain": [
              "'/Users/fjiang/sigformer'"
            ]
          },
          "execution_count": 43,
          "metadata": {},
          "output_type": "execute_result"
        }
      ],
      "source": [
        "root_path = '/Users/fjiang/Downloads/data/spx/'\n",
        "opt_path ='/Users/fjiang/Downloads/spx_eod/'\n",
        "spx_file = \"SP500.csv\"\n",
        "vix_file = \"VIXCLS.csv\"\n",
        "calibrated_file = \"calibrated.pkl\"\n",
        "os.getcwd()"
      ]
    },
    {
      "cell_type": "code",
      "execution_count": null,
      "metadata": {
        "id": "cD877tvxK8Yb"
      },
      "outputs": [],
      "source": [
        "# VIX\n",
        "df_vix = pd.read_csv(os.path.join(root_path, vix_file))\n",
        "# SPX\n",
        "df_spx = pd.read_csv(os.path.join(root_path, spx_file))\n",
        "df_optprice= pd.read_csv(os.path.join(opt_path, \"spx_eod_202203.txt\"))\n"
      ]
    },
    {
      "cell_type": "code",
      "execution_count": null,
      "metadata": {
        "id": "VHE4eQT2K8Yc",
        "outputId": "50671a24-8cb4-466b-b613-5e0d7900e9d6"
      },
      "outputs": [
        {
          "data": {
            "text/html": [
              "<div>\n",
              "<style scoped>\n",
              "    .dataframe tbody tr th:only-of-type {\n",
              "        vertical-align: middle;\n",
              "    }\n",
              "\n",
              "    .dataframe tbody tr th {\n",
              "        vertical-align: top;\n",
              "    }\n",
              "\n",
              "    .dataframe thead th {\n",
              "        text-align: right;\n",
              "    }\n",
              "</style>\n",
              "<table border=\"1\" class=\"dataframe\">\n",
              "  <thead>\n",
              "    <tr style=\"text-align: right;\">\n",
              "      <th></th>\n",
              "      <th>DATE</th>\n",
              "      <th>SP500</th>\n",
              "    </tr>\n",
              "  </thead>\n",
              "  <tbody>\n",
              "    <tr>\n",
              "      <th>0</th>\n",
              "      <td>2022-01-03</td>\n",
              "      <td>4796.56</td>\n",
              "    </tr>\n",
              "    <tr>\n",
              "      <th>1</th>\n",
              "      <td>2022-01-04</td>\n",
              "      <td>4793.54</td>\n",
              "    </tr>\n",
              "    <tr>\n",
              "      <th>2</th>\n",
              "      <td>2022-01-05</td>\n",
              "      <td>4700.58</td>\n",
              "    </tr>\n",
              "    <tr>\n",
              "      <th>3</th>\n",
              "      <td>2022-01-06</td>\n",
              "      <td>4696.05</td>\n",
              "    </tr>\n",
              "    <tr>\n",
              "      <th>4</th>\n",
              "      <td>2022-01-07</td>\n",
              "      <td>4677.03</td>\n",
              "    </tr>\n",
              "  </tbody>\n",
              "</table>\n",
              "</div>"
            ],
            "text/plain": [
              "         DATE    SP500\n",
              "0  2022-01-03  4796.56\n",
              "1  2022-01-04  4793.54\n",
              "2  2022-01-05  4700.58\n",
              "3  2022-01-06  4696.05\n",
              "4  2022-01-07  4677.03"
            ]
          },
          "execution_count": 45,
          "metadata": {},
          "output_type": "execute_result"
        }
      ],
      "source": [
        "df_spx.head()"
      ]
    },
    {
      "cell_type": "code",
      "execution_count": null,
      "metadata": {
        "id": "j1FhUDhpK8Yc",
        "outputId": "1b2b5822-65cd-4242-cdcb-26af89d539c0"
      },
      "outputs": [
        {
          "data": {
            "text/html": [
              "<div>\n",
              "<style scoped>\n",
              "    .dataframe tbody tr th:only-of-type {\n",
              "        vertical-align: middle;\n",
              "    }\n",
              "\n",
              "    .dataframe tbody tr th {\n",
              "        vertical-align: top;\n",
              "    }\n",
              "\n",
              "    .dataframe thead th {\n",
              "        text-align: right;\n",
              "    }\n",
              "</style>\n",
              "<table border=\"1\" class=\"dataframe\">\n",
              "  <thead>\n",
              "    <tr style=\"text-align: right;\">\n",
              "      <th></th>\n",
              "      <th>DATE</th>\n",
              "      <th>VIXCLS</th>\n",
              "    </tr>\n",
              "  </thead>\n",
              "  <tbody>\n",
              "    <tr>\n",
              "      <th>0</th>\n",
              "      <td>2022-01-03</td>\n",
              "      <td>16.6</td>\n",
              "    </tr>\n",
              "    <tr>\n",
              "      <th>1</th>\n",
              "      <td>2022-01-04</td>\n",
              "      <td>16.91</td>\n",
              "    </tr>\n",
              "    <tr>\n",
              "      <th>2</th>\n",
              "      <td>2022-01-05</td>\n",
              "      <td>19.73</td>\n",
              "    </tr>\n",
              "    <tr>\n",
              "      <th>3</th>\n",
              "      <td>2022-01-06</td>\n",
              "      <td>19.61</td>\n",
              "    </tr>\n",
              "    <tr>\n",
              "      <th>4</th>\n",
              "      <td>2022-01-07</td>\n",
              "      <td>18.76</td>\n",
              "    </tr>\n",
              "  </tbody>\n",
              "</table>\n",
              "</div>"
            ],
            "text/plain": [
              "         DATE VIXCLS\n",
              "0  2022-01-03   16.6\n",
              "1  2022-01-04  16.91\n",
              "2  2022-01-05  19.73\n",
              "3  2022-01-06  19.61\n",
              "4  2022-01-07  18.76"
            ]
          },
          "execution_count": 46,
          "metadata": {},
          "output_type": "execute_result"
        }
      ],
      "source": [
        "df_vix.head()"
      ]
    },
    {
      "cell_type": "code",
      "execution_count": null,
      "metadata": {
        "id": "pIvrO4hYK8Yc"
      },
      "outputs": [],
      "source": [
        "df_vix = df_vix.rename(columns={\"VIXCLS\": \"VIX\"})\n",
        "df_spx = df_spx.rename(columns={\"SP500\": \"SPX\"})\n",
        "\n",
        "df_vix.DATE = pd.to_datetime(df_vix.DATE)\n",
        "df_vix.VIX = pd.to_numeric(df_vix.VIX, errors=\"coerce\")\n",
        "\n",
        "df_spx.DATE = pd.to_datetime(df_spx.DATE)\n",
        "df_spx.SPX = pd.to_numeric(df_spx.SPX, errors=\"coerce\")"
      ]
    },
    {
      "cell_type": "code",
      "execution_count": null,
      "metadata": {
        "id": "h-7_qnagK8Yc"
      },
      "outputs": [],
      "source": [
        "df_spx_vix = pd.merge(df_spx, df_vix)"
      ]
    },
    {
      "cell_type": "markdown",
      "metadata": {
        "id": "4_ZtyLqOK8Yd"
      },
      "source": [
        "## Hedging given the calibrated parameters"
      ]
    },
    {
      "cell_type": "code",
      "execution_count": null,
      "metadata": {
        "id": "KrlmJYxrK8Yd"
      },
      "outputs": [],
      "source": [
        "with open(os.path.join(root_path, calibrated_file), \"rb\") as f:\n",
        "    calibrated_params = pickle.load(f)"
      ]
    },
    {
      "cell_type": "code",
      "execution_count": null,
      "metadata": {
        "id": "ont84r4FK8Yd"
      },
      "outputs": [],
      "source": [
        "# SigHedger\n",
        "signature_dim = 6\n",
        "n_attn_heads = 12\n",
        "n_attn_blocks = 5\n",
        "\n",
        "# traing\n",
        "n_train_paths = 1000\n",
        "n_valid_paths = 1000\n",
        "n_epochs = 1000\n",
        "lr = 1e-4\n",
        "\n",
        "n_test_paths = 5_000\n",
        "seed = 123\n",
        "inputs = [\"LogMoneyness\", \"Volatility\"]\n",
        "T=30/365"
      ]
    },
    {
      "cell_type": "code",
      "execution_count": null,
      "metadata": {
        "id": "_kdZmKVYK8Yd"
      },
      "outputs": [],
      "source": [
        "key = jrandom.PRNGKey(seed)\n",
        "model_key, train_key, valid_key, test_key = jrandom.split(key, 4)"
      ]
    },
    {
      "cell_type": "code",
      "execution_count": null,
      "metadata": {
        "id": "UrKsRwAtK8Yd"
      },
      "outputs": [],
      "source": [
        "class VIX(VarianceSwap):\n",
        "    def __init__(\n",
        "        self, underlier, maturity: float = 45.0 / 356, strike: float = 0.04\n",
        "    ) -> None:\n",
        "        super().__init__(underlier, maturity, strike)\n",
        "\n",
        "    def price(self, input):\n",
        "        VIX = jnp.sqrt(input[\"forward_variance\"])\n",
        "        standard_v= (VIX-jnp.mean(VIX))/jnp.std(VIX)\n",
        "        return standard_v"
      ]
    },
    {
      "cell_type": "code",
      "execution_count": null,
      "metadata": {
        "id": "i09z9_tEK8Yd"
      },
      "outputs": [],
      "source": [
        "class QuadraticLoss(BaseCriterion):\n",
        "\n",
        "    p0: float\n",
        "\n",
        "    def __init__(self, p0) -> None:\n",
        "        super().__init__()\n",
        "        self.p0 = p0\n",
        "\n",
        "    def __call__(self, input, target):\n",
        "        return jnp.mean(jnp.square(input - target + self.p0))"
      ]
    },
    {
      "cell_type": "code",
      "execution_count": null,
      "metadata": {
        "id": "ca42ursWK8Ye",
        "outputId": "8aa94633-4384-430e-995a-e23ecbf0c171"
      },
      "outputs": [
        {
          "name": "stdout",
          "output_type": "stream",
          "text": [
            "Load calirated params \n",
            " \t {'eta': array(2.2667425, dtype=float32), 'hurst': array(0.07116599, dtype=float32), 'rho': array(-0.8565923, dtype=float32), 'xi_sqrt': array(0.0501667, dtype=float32)} \n",
            "\n",
            "Initial spot S0 =4796.56\n",
            "p0: 22.547\n"
          ]
        },
        {
          "ename": "NameError",
          "evalue": "name 'model_2' is not defined",
          "output_type": "error",
          "traceback": [
            "\u001b[0;31m---------------------------------------------------------------------------\u001b[0m",
            "\u001b[0;31mNameError\u001b[0m                                 Traceback (most recent call last)",
            "Cell \u001b[0;32mIn[140], line 61\u001b[0m\n\u001b[1;32m     59\u001b[0m optimizer \u001b[38;5;241m=\u001b[39m optax\u001b[38;5;241m.\u001b[39madam(learning_rate\u001b[38;5;241m=\u001b[39mlr)\n\u001b[1;32m     60\u001b[0m opt_state \u001b[38;5;241m=\u001b[39m optimizer\u001b[38;5;241m.\u001b[39minit(eqx\u001b[38;5;241m.\u001b[39mfilter(model, eqx\u001b[38;5;241m.\u001b[39mis_array))\n\u001b[0;32m---> 61\u001b[0m opt_state2 \u001b[38;5;241m=\u001b[39m optimizer\u001b[38;5;241m.\u001b[39minit(eqx\u001b[38;5;241m.\u001b[39mfilter(model_2, eqx\u001b[38;5;241m.\u001b[39mis_array))\n\u001b[1;32m     63\u001b[0m \u001b[38;5;129m@eqx\u001b[39m\u001b[38;5;241m.\u001b[39mfilter_value_and_grad\n\u001b[1;32m     64\u001b[0m \u001b[38;5;28;01mdef\u001b[39;00m \u001b[38;5;21mcompute_loss\u001b[39m(model: SigHedger, n_simulate_paths, rng_key):\n\u001b[1;32m     65\u001b[0m     \u001b[38;5;28;01mreturn\u001b[39;00m model\u001b[38;5;241m.\u001b[39mcompute_loss(\n\u001b[1;32m     66\u001b[0m         init_state\u001b[38;5;241m=\u001b[39minit_state,\n\u001b[1;32m     67\u001b[0m         n_paths\u001b[38;5;241m=\u001b[39mn_simulate_paths,\n\u001b[1;32m     68\u001b[0m         rng_key\u001b[38;5;241m=\u001b[39mrng_key,\n\u001b[1;32m     69\u001b[0m     )\n",
            "\u001b[0;31mNameError\u001b[0m: name 'model_2' is not defined"
          ]
        }
      ],
      "source": [
        "p_0=[] #price of derivative\n",
        "for month in range(1, 13):\n",
        "    params = calibrated_params[month]\n",
        "\n",
        "    hurst = params[\"hurst\"]\n",
        "    rho = params[\"rho\"]\n",
        "    eta = params[\"eta\"]\n",
        "    xi = params[\"xi_sqrt\"] ** 2\n",
        "    cost = (0.0,)\n",
        "    dt = 1.0 / 365\n",
        "    forward_offset = 15.0 / 356\n",
        "    T = 30.0 / 365\n",
        "    S0 = K = df_spx_vix[df_spx_vix.DATE.dt.month == month][\"SPX\"].to_numpy()[0]\n",
        "\n",
        "    print(f\"Load calirated params \\n \\t {params} \\n\")\n",
        "    print(f\"Initial spot S0 ={S0}\")\n",
        "\n",
        "    stock = RoughBergomiStock(\n",
        "        hurst=hurst,\n",
        "        rho=rho,\n",
        "        xi=xi,\n",
        "        eta=eta,\n",
        "        cost=cost,\n",
        "        dt=dt,\n",
        "        forward_offset=forward_offset,\n",
        "    )\n",
        "    init_state = (S0, stock.xi, None)\n",
        "\n",
        "    derivative = EuropeanOption(\n",
        "        underlier=stock,\n",
        "        call=True,\n",
        "        strike=K,\n",
        "        maturity=T,\n",
        "    )\n",
        "\n",
        "    forward_variance = ForwardVariance(stock, maturity=T)\n",
        "    hedge = [derivative, forward_variance]\n",
        "\n",
        "    payoff_fn = lambda key: derivative.payoff(rng_key=key, init_state=init_state)\n",
        "    payoff = jax.vmap(payoff_fn)(jrandom.split(test_key, n_test_paths))\n",
        "    p0 = jnp.mean(payoff)\n",
        "    p_0.append(p0)\n",
        "    loss_fn = QuadraticLoss(p0=p0)\n",
        "    print(f\"p0: {p0.item():.3f}\")\n",
        "\n",
        "    model = SigHedger(\n",
        "            derivative=derivative,\n",
        "            inputs=inputs,\n",
        "            hedge=hedge,\n",
        "            criterion=loss_fn,\n",
        "            signature_dim=signature_dim,\n",
        "            n_attn_heads=n_attn_heads,\n",
        "            n_attn_blocks=n_attn_blocks,\n",
        "            order=1,\n",
        "            #randomness = hurst+ rho**2,\n",
        "            rng_key=model_key,\n",
        "        )\n",
        "\n",
        "    optimizer = optax.adam(learning_rate=lr)\n",
        "    opt_state = optimizer.init(eqx.filter(model, eqx.is_array))\n",
        "\n",
        "\n",
        "    @eqx.filter_value_and_grad\n",
        "    def compute_loss(model: SigHedger, n_simulate_paths, rng_key):\n",
        "        return model.compute_loss(\n",
        "            init_state=init_state,\n",
        "            n_paths=n_simulate_paths,\n",
        "            rng_key=rng_key,\n",
        "        )\n",
        "\n",
        "    @eqx.filter_jit\n",
        "    def make_step(model: SigHedger, opt_state, n_simulate_paths, rng_key):\n",
        "\n",
        "        loss_value, grads = compute_loss(model, n_simulate_paths, rng_key)\n",
        "        updates, opt_state = optimizer.update(grads, opt_state, model)\n",
        "        model = eqx.apply_updates(model, updates)\n",
        "        return model, opt_state, loss_value\n",
        "\n",
        "    valid_keys = jrandom.split(valid_key, n_valid_paths)\n",
        "    valid_data = jax.vmap(\n",
        "        lambda key: derivative.simulate(rng_key=key, init_state=init_state)\n",
        "    )(valid_keys)\n",
        "\n",
        "    @eqx.filter_jit\n",
        "    def validate(model: SigHedger, valid_data):\n",
        "        portfolio, payoff = model.compute_pnl(\n",
        "            rng_key=None,\n",
        "            n_paths=n_valid_paths,\n",
        "            simulated_data=valid_data,\n",
        "            return_portfolio_and_payoff=True,\n",
        "        )\n",
        "        return model.criterion(portfolio, payoff)\n",
        "\n",
        "    progress = tqdm(range(n_epochs), desc=f\"Month={month}\")\n",
        "    for i in progress:\n",
        "\n",
        "        model, opt_state, loss_value = make_step(\n",
        "            model,\n",
        "            opt_state,\n",
        "            n_simulate_paths=n_train_paths,\n",
        "            rng_key=jrandom.fold_in(train_key, i),\n",
        "        )\n",
        "        if i % 20 == 0:\n",
        "            valid_model = eqx.tree_inference(model, True)\n",
        "\n",
        "            # compute validate loss\n",
        "            valid_loss = validate(valid_model, valid_data)\n",
        "\n",
        "    model = eqx.tree_inference(model, True)\n",
        "    model_file = f\"../checkpoint/model_month_{month}.eqx\"\n",
        "    #model_file.parent.mkdir(parents=True, exist_ok=True)\n",
        "    os.makedirs(os.path.dirname(model_file), exist_ok=True)\n",
        "    eqx.tree_serialise_leaves(model_file, model)\n",
        "\n",
        ""
      ]
    },
    {
      "cell_type": "code",
      "execution_count": null,
      "metadata": {
        "id": "nvo0_m1mK8Ye",
        "outputId": "de6a0df4-1a75-453b-c034-17759f57ec0f"
      },
      "outputs": [
        {
          "name": "stdout",
          "output_type": "stream",
          "text": [
            "Load calirated params \n",
            " \t {'eta': array(2.2667425, dtype=float32), 'hurst': array(0.07116599, dtype=float32), 'rho': array(-0.8565923, dtype=float32), 'xi_sqrt': array(0.0501667, dtype=float32)} \n",
            "\n",
            "Initial spot S0 =95.9312\n",
            "p0: 0.451\n"
          ]
        },
        {
          "name": "stderr",
          "output_type": "stream",
          "text": [
            "Month=1: 100%|██████████| 1000/1000 [06:34<00:00,  2.53it/s]\n"
          ]
        },
        {
          "name": "stdout",
          "output_type": "stream",
          "text": [
            "Load calirated params \n",
            " \t {'eta': array(2.2840803, dtype=float32), 'hurst': array(0.07239809, dtype=float32), 'rho': array(-0.8430177, dtype=float32), 'xi_sqrt': array(0.05022182, dtype=float32)} \n",
            "\n",
            "Initial spot S0 =90.9308\n",
            "p0: 0.427\n"
          ]
        },
        {
          "name": "stderr",
          "output_type": "stream",
          "text": [
            "Month=2: 100%|██████████| 1000/1000 [06:33<00:00,  2.54it/s]\n"
          ]
        },
        {
          "name": "stdout",
          "output_type": "stream",
          "text": [
            "Load calirated params \n",
            " \t {'eta': array(2.5070953, dtype=float32), 'hurst': array(0.05068801, dtype=float32), 'rho': array(-0.7581486, dtype=float32), 'xi_sqrt': array(0.38287702, dtype=float32)} \n",
            "\n",
            "Initial spot S0 =86.1252\n",
            "p0: 2.964\n"
          ]
        },
        {
          "name": "stderr",
          "output_type": "stream",
          "text": [
            "Month=3: 100%|██████████| 1000/1000 [06:34<00:00,  2.54it/s]\n"
          ]
        },
        {
          "name": "stdout",
          "output_type": "stream",
          "text": [
            "Load calirated params \n",
            " \t {'eta': array(2.2346134, dtype=float32), 'hurst': array(0.0511454, dtype=float32), 'rho': array(-0.8372275, dtype=float32), 'xi_sqrt': array(0.05034192, dtype=float32)} \n",
            "\n",
            "Initial spot S0 =90.9172\n",
            "p0: 0.433\n"
          ]
        },
        {
          "name": "stderr",
          "output_type": "stream",
          "text": [
            "Month=4: 100%|██████████| 1000/1000 [06:33<00:00,  2.54it/s]\n"
          ]
        },
        {
          "name": "stdout",
          "output_type": "stream",
          "text": [
            "Load calirated params \n",
            " \t {'eta': array(2.2072177, dtype=float32), 'hurst': array(0.06383608, dtype=float32), 'rho': array(-0.85115665, dtype=float32), 'xi_sqrt': array(0.2711833, dtype=float32)} \n",
            "\n",
            "Initial spot S0 =83.1076\n",
            "p0: 2.112\n"
          ]
        },
        {
          "name": "stderr",
          "output_type": "stream",
          "text": [
            "Month=5: 100%|██████████| 1000/1000 [06:34<00:00,  2.54it/s]\n"
          ]
        },
        {
          "name": "stdout",
          "output_type": "stream",
          "text": [
            "Load calirated params \n",
            " \t {'eta': array(3.1368206, dtype=float32), 'hurst': array(0.02572006, dtype=float32), 'rho': array(-0.7487836, dtype=float32), 'xi_sqrt': array(0.47113323, dtype=float32)} \n",
            "\n",
            "Initial spot S0 =82.02459999999999\n",
            "p0: 2.940\n"
          ]
        },
        {
          "name": "stderr",
          "output_type": "stream",
          "text": [
            "Month=6: 100%|██████████| 1000/1000 [06:31<00:00,  2.55it/s]\n"
          ]
        },
        {
          "name": "stdout",
          "output_type": "stream",
          "text": [
            "Load calirated params \n",
            " \t {'eta': array(2.319245, dtype=float32), 'hurst': array(0.06869617, dtype=float32), 'rho': array(-0.8412051, dtype=float32), 'xi_sqrt': array(0.05028014, dtype=float32)} \n",
            "\n",
            "Initial spot S0 =76.50659999999999\n",
            "p0: 0.358\n"
          ]
        },
        {
          "name": "stderr",
          "output_type": "stream",
          "text": [
            "Month=7: 100%|██████████| 1000/1000 [06:33<00:00,  2.54it/s]\n"
          ]
        },
        {
          "name": "stdout",
          "output_type": "stream",
          "text": [
            "Load calirated params \n",
            " \t {'eta': array(2.2069018, dtype=float32), 'hurst': array(0.05163295, dtype=float32), 'rho': array(-0.8056911, dtype=float32), 'xi_sqrt': array(0.17182197, dtype=float32)} \n",
            "\n",
            "Initial spot S0 =82.3726\n",
            "p0: 1.339\n"
          ]
        },
        {
          "name": "stderr",
          "output_type": "stream",
          "text": [
            "Month=8: 100%|██████████| 1000/1000 [06:32<00:00,  2.55it/s]\n"
          ]
        },
        {
          "name": "stdout",
          "output_type": "stream",
          "text": [
            "Load calirated params \n",
            " \t {'eta': array(2.2644217, dtype=float32), 'hurst': array(0.09229718, dtype=float32), 'rho': array(-0.8372041, dtype=float32), 'xi_sqrt': array(0.05011558, dtype=float32)} \n",
            "\n",
            "Initial spot S0 =79.337\n",
            "p0: 0.372\n"
          ]
        },
        {
          "name": "stderr",
          "output_type": "stream",
          "text": [
            "Month=9: 100%|██████████| 1000/1000 [06:33<00:00,  2.54it/s]\n"
          ]
        },
        {
          "name": "stdout",
          "output_type": "stream",
          "text": [
            "Load calirated params \n",
            " \t {'eta': array(1.9532868, dtype=float32), 'hurst': array(0.02511391, dtype=float32), 'rho': array(-0.73340106, dtype=float32), 'xi_sqrt': array(0.06674874, dtype=float32)} \n",
            "\n",
            "Initial spot S0 =73.5686\n",
            "p0: 0.486\n"
          ]
        },
        {
          "name": "stderr",
          "output_type": "stream",
          "text": [
            "Month=10: 100%|██████████| 1000/1000 [06:34<00:00,  2.53it/s]\n"
          ]
        },
        {
          "name": "stdout",
          "output_type": "stream",
          "text": [
            "Load calirated params \n",
            " \t {'eta': array(1.9764926, dtype=float32), 'hurst': array(0.0668933, dtype=float32), 'rho': array(-0.82157904, dtype=float32), 'xi_sqrt': array(0.25470775, dtype=float32)} \n",
            "\n",
            "Initial spot S0 =77.122\n",
            "p0: 1.890\n"
          ]
        },
        {
          "name": "stderr",
          "output_type": "stream",
          "text": [
            "Month=11: 100%|██████████| 1000/1000 [06:33<00:00,  2.54it/s]\n"
          ]
        },
        {
          "name": "stdout",
          "output_type": "stream",
          "text": [
            "Load calirated params \n",
            " \t {'eta': array(2.1945572, dtype=float32), 'hurst': array(0.06761874, dtype=float32), 'rho': array(-0.8346016, dtype=float32), 'xi_sqrt': array(0.05024514, dtype=float32)} \n",
            "\n",
            "Initial spot S0 =81.5314\n",
            "p0: 0.388\n"
          ]
        },
        {
          "name": "stderr",
          "output_type": "stream",
          "text": [
            "Month=12: 100%|██████████| 1000/1000 [06:34<00:00,  2.53it/s]\n"
          ]
        }
      ],
      "source": [
        "p_0=[] #price of derivative\n",
        "for month in range(1, 13):\n",
        "    params = calibrated_params[month]\n",
        "\n",
        "    hurst = params[\"hurst\"]\n",
        "    rho = params[\"rho\"]\n",
        "    eta = params[\"eta\"]\n",
        "    xi = params[\"xi_sqrt\"] ** 2\n",
        "    cost = (0.0,)\n",
        "    dt = 1.0 / 365\n",
        "    forward_offset = 15.0 / 356\n",
        "    T = 30.0 / 365\n",
        "    S0 = K = df_spx_vix[df_spx_vix.DATE.dt.month == month][\"SPX\"].to_numpy()[0]/50\n",
        "\n",
        "    print(f\"Load calirated params \\n \\t {params} \\n\")\n",
        "    print(f\"Initial spot S0 ={S0}\")\n",
        "\n",
        "    stock = RoughBergomiStock(\n",
        "        hurst=hurst,\n",
        "        rho=rho,\n",
        "        xi=xi,\n",
        "        eta=eta,\n",
        "        cost=cost,\n",
        "        dt=dt,\n",
        "        forward_offset=forward_offset,\n",
        "    )\n",
        "    init_state = (S0, stock.xi, None)\n",
        "\n",
        "    derivative = EuropeanOption(\n",
        "        underlier=stock,\n",
        "        call=True,\n",
        "        strike=K,\n",
        "        maturity=T,\n",
        "    )\n",
        "\n",
        "    vix = VIX(stock)\n",
        "    hedge = [derivative, vix]\n",
        "\n",
        "    payoff_fn = lambda key: derivative.payoff(rng_key=key, init_state=init_state)\n",
        "    payoff = jax.vmap(payoff_fn)(jrandom.split(test_key, n_test_paths))\n",
        "    p0 = jnp.mean(payoff)\n",
        "    p_0.append(p0)\n",
        "    loss_fn = QuadraticLoss(p0=p0)\n",
        "    print(f\"p0: {p0.item():.3f}\")\n",
        "\n",
        "    model = SigHedger(\n",
        "            derivative=derivative,\n",
        "            inputs=inputs,\n",
        "            hedge=hedge,\n",
        "            criterion=loss_fn,\n",
        "            signature_dim=signature_dim,\n",
        "            n_attn_heads=n_attn_heads,\n",
        "            n_attn_blocks=n_attn_blocks,\n",
        "            order=1,\n",
        "            #randomness = hurst+ rho**2,\n",
        "            rng_key=model_key,\n",
        "        )\n",
        "\n",
        "\n",
        "    optimizer = optax.adam(learning_rate=lr)\n",
        "    opt_state = optimizer.init(eqx.filter(model, eqx.is_array))\n",
        "\n",
        "\n",
        "    @eqx.filter_value_and_grad\n",
        "    def compute_loss(model: SigHedger, n_simulate_paths, rng_key):\n",
        "        return model.compute_loss(\n",
        "            init_state=init_state,\n",
        "            n_paths=n_simulate_paths,\n",
        "            rng_key=rng_key,\n",
        "        )\n",
        "\n",
        "    @eqx.filter_jit\n",
        "    def make_step(model: SigHedger, opt_state, n_simulate_paths, rng_key):\n",
        "\n",
        "        loss_value, grads = compute_loss(model, n_simulate_paths, rng_key)\n",
        "        updates, opt_state = optimizer.update(grads, opt_state, model)\n",
        "        model = eqx.apply_updates(model, updates)\n",
        "        return model, opt_state, loss_value\n",
        "\n",
        "    valid_keys = jrandom.split(valid_key, n_valid_paths)\n",
        "    valid_data = jax.vmap(\n",
        "        lambda key: derivative.simulate(rng_key=key, init_state=init_state)\n",
        "    )(valid_keys)\n",
        "\n",
        "    @eqx.filter_jit\n",
        "    def validate(model: SigHedger, valid_data):\n",
        "        portfolio, payoff = model.compute_pnl(\n",
        "            rng_key=None,\n",
        "            n_paths=n_valid_paths,\n",
        "            simulated_data=valid_data,\n",
        "            return_portfolio_and_payoff=True,\n",
        "        )\n",
        "        return model.criterion(portfolio, payoff)\n",
        "\n",
        "    progress = tqdm(range(n_epochs), desc=f\"Month={month}\")\n",
        "    for i in progress:\n",
        "\n",
        "        model, opt_state, loss_value = make_step(\n",
        "            model,\n",
        "            opt_state,\n",
        "            n_simulate_paths=n_train_paths,\n",
        "            rng_key=jrandom.fold_in(train_key, i),\n",
        "        )\n",
        "\n",
        "        if i % 20 == 0:\n",
        "            valid_model = eqx.tree_inference(model, True)\n",
        "\n",
        "            # compute validate loss\n",
        "            valid_loss = validate(valid_model, valid_data)\n",
        "\n",
        "    model = eqx.tree_inference(model, True)\n",
        "    model_file = f\"../checkpoint/model_month_{month}.eqx\"\n",
        "    #model_file.parent.mkdir(parents=True, exist_ok=True)\n",
        "    os.makedirs(os.path.dirname(model_file), exist_ok=True)\n",
        "    eqx.tree_serialise_leaves(model_file, model)\n"
      ]
    },
    {
      "cell_type": "code",
      "execution_count": null,
      "metadata": {
        "id": "rhb7IIJgK8Ye"
      },
      "outputs": [],
      "source": [
        "# make dummy model\n",
        "#loss_fn = QuadraticLoss(p0=22)\n",
        "stock = RoughBergomiStock(\n",
        "    hurst=0.1,\n",
        "    rho=-0.9,\n",
        "    xi=0.235**2,\n",
        "    eta=1.9,\n",
        "    cost=0,\n",
        "    dt=1.0 / 365,\n",
        "    forward_offset=15.0 / 365,\n",
        ")\n",
        "init_state = (100, stock.xi, None)\n",
        "\n",
        "derivative = EuropeanOption(\n",
        "    underlier=stock,\n",
        "    call=True,\n",
        "    strike=100,\n",
        "    maturity=30.0 / 365,\n",
        ")\n",
        "\n",
        "vix = VIX(stock, maturity=30.0 / 365)\n",
        "hedge = [derivative, vix]\n",
        "\n",
        "model = SigHedger(\n",
        "    derivative=derivative,\n",
        "            inputs=inputs,\n",
        "            hedge=hedge,\n",
        "            criterion=loss_fn,\n",
        "            signature_dim=6,\n",
        "            n_attn_heads=n_attn_heads,\n",
        "            n_attn_blocks=n_attn_blocks,\n",
        "            order=1,\n",
        "            #randomness= rho**2+hurst,\n",
        "            rng_key=model_key,\n",
        ")"
      ]
    },
    {
      "cell_type": "code",
      "execution_count": null,
      "metadata": {
        "id": "MU92V9T8K8Ye",
        "outputId": "ead8f82f-cd0c-4d86-91bd-15f9d6ead387"
      },
      "outputs": [
        {
          "name": "stderr",
          "output_type": "stream",
          "text": [
            "100%|██████████| 12/12 [00:01<00:00, 10.64it/s]\n"
          ]
        }
      ],
      "source": [
        "pnl_evolutions = {}\n",
        "pnl_sig={}\n",
        "\n",
        "for month in tqdm(range(1, 13)):\n",
        "    df_month = df_spx_vix[df_spx_vix.DATE.dt.month == month].dropna()\n",
        "    spx = df_month[\"SPX\"].to_numpy()/50   #make consistent of magnitude\n",
        "    vix = df_month[\"VIX\"].to_numpy()\n",
        "    K = spx[0]\n",
        "    moneyness = spx / K\n",
        "    var_swap = vix / 100\n",
        "\n",
        "    log_moneyness = jnp.log(jnp.asarray(moneyness, dtype=jnp.float32))\n",
        "    var_swap = jnp.asarray(var_swap)\n",
        "    logmoneyness_varswap= jnp.stack([log_moneyness, var_swap], axis=1)\n",
        "    portfolio = jnp.stack([moneyness, var_swap], axis=1)\n",
        "    model_file = f\"../checkpoint/model_month_{month}.eqx\"\n",
        "    model = eqx.tree_deserialise_leaves(model_file, model)\n",
        "\n",
        "    unit = model.model(logmoneyness_varswap, key=None)  #see function compute_hedge the input is log moneyness and volatility\n",
        "    #but the trading strategies are units of spx and vix\n",
        "\n",
        "    # compute\n",
        "\n",
        "    payoff = (spx[-1]/K -1) * (spx[-1]/K -1 > 0)\n",
        "    output = unit[:-1] * jnp.diff(portfolio, axis=0)\n",
        "\n",
        "    output = jnp.sum(output, axis=-1)\n",
        "    output = jnp.cumsum(output, axis=0) + p_0[month-1]/K\n",
        "\n",
        "\n",
        "    output=output.at[-1].set(output[-1]- payoff)\n",
        "\n",
        "    pnl_evolutions[month] = np.array(output)\n",
        ""
      ]
    },
    {
      "cell_type": "code",
      "execution_count": null,
      "metadata": {
        "id": "7UzULEBuK8Ye",
        "outputId": "eebb6950-bdfd-46d9-d331-82c0713051d1"
      },
      "outputs": [
        {
          "data": {
            "text/plain": [
              "[<matplotlib.lines.Line2D at 0x370bd1e20>]"
            ]
          },
          "execution_count": 99,
          "metadata": {},
          "output_type": "execute_result"
        },
        {
          "data": {
            "image/png": "[encoded data removed]",
            "text/plain": [
              "<Figure size 640x480 with 1 Axes>"
            ]
          },
          "metadata": {},
          "output_type": "display_data"
        }
      ],
      "source": [
        "#with open('pnlsig.pkl', 'wb') as f:\n",
        " #   pickle.dump(pnl_sig, f)\n",
        "with open('pnlsig.pkl', 'rb') as f:\n",
        "    loaded_sigpl= pickle.load(f)\n",
        "plt.plot(np.concatenate(list(loaded_sigpl.values())))\n"
      ]
    },
    {
      "cell_type": "code",
      "execution_count": null,
      "metadata": {
        "id": "OoHvH45TK8Ye",
        "outputId": "64aa7393-93d6-451a-d304-904ebfa000df"
      },
      "outputs": [
        {
          "data": {
            "text/plain": [
              "[<matplotlib.lines.Line2D at 0x42301c110>]"
            ]
          },
          "execution_count": 70,
          "metadata": {},
          "output_type": "execute_result"
        },
        {
          "data": {
            "image/png": "[encoded data removed]",
            "text/plain": [
              "<Figure size 640x480 with 1 Axes>"
            ]
          },
          "metadata": {},
          "output_type": "display_data"
        }
      ],
      "source": [
        "#plt.plot(np.concatenate(list(pnl_evolutions.values())))\n",
        "\n",
        "#with open('pnl_evolutions', 'wb') as f:\n",
        "#   pickle.dump(pnl_evolutions, f)\n",
        "with open('pnl_evolutions', 'rb') as f:\n",
        "    loaded_pl= pickle.load(f)\n",
        "plt.plot(np.concatenate(list(loaded_pl.values())))"
      ]
    },
    {
      "cell_type": "markdown",
      "metadata": {
        "id": "POevE9fiK8Yf"
      },
      "source": [
        "### Deep hedging"
      ]
    },
    {
      "cell_type": "code",
      "execution_count": null,
      "metadata": {
        "id": "cGqEhTY8K8Yf",
        "outputId": "9e1d1939-92ba-4408-962e-24b190b358d9"
      },
      "outputs": [
        {
          "name": "stdout",
          "output_type": "stream",
          "text": [
            "Load calirated params \n",
            " \t {'eta': array(2.2667425, dtype=float32), 'hurst': array(0.07116599, dtype=float32), 'rho': array(-0.8565923, dtype=float32), 'xi_sqrt': array(0.0501667, dtype=float32)} \n",
            "\n",
            "Initial spot S0 =95.9312\n",
            "p0: 0.451\n"
          ]
        },
        {
          "name": "stderr",
          "output_type": "stream",
          "text": [
            "Month=1: 100%|██████████| 3000/3000 [04:16<00:00, 11.72it/s]\n"
          ]
        },
        {
          "name": "stdout",
          "output_type": "stream",
          "text": [
            "Load calirated params \n",
            " \t {'eta': array(2.2840803, dtype=float32), 'hurst': array(0.07239809, dtype=float32), 'rho': array(-0.8430177, dtype=float32), 'xi_sqrt': array(0.05022182, dtype=float32)} \n",
            "\n",
            "Initial spot S0 =90.9308\n",
            "p0: 0.427\n"
          ]
        },
        {
          "name": "stderr",
          "output_type": "stream",
          "text": [
            "Month=2: 100%|██████████| 3000/3000 [04:14<00:00, 11.77it/s]\n"
          ]
        },
        {
          "name": "stdout",
          "output_type": "stream",
          "text": [
            "Load calirated params \n",
            " \t {'eta': array(2.5070953, dtype=float32), 'hurst': array(0.05068801, dtype=float32), 'rho': array(-0.7581486, dtype=float32), 'xi_sqrt': array(0.38287702, dtype=float32)} \n",
            "\n",
            "Initial spot S0 =86.1252\n",
            "p0: 2.964\n"
          ]
        },
        {
          "name": "stderr",
          "output_type": "stream",
          "text": [
            "Month=3: 100%|██████████| 3000/3000 [04:21<00:00, 11.47it/s]\n"
          ]
        },
        {
          "name": "stdout",
          "output_type": "stream",
          "text": [
            "Load calirated params \n",
            " \t {'eta': array(2.2346134, dtype=float32), 'hurst': array(0.0511454, dtype=float32), 'rho': array(-0.8372275, dtype=float32), 'xi_sqrt': array(0.05034192, dtype=float32)} \n",
            "\n",
            "Initial spot S0 =90.9172\n",
            "p0: 0.433\n"
          ]
        },
        {
          "name": "stderr",
          "output_type": "stream",
          "text": [
            "Month=4: 100%|██████████| 3000/3000 [04:21<00:00, 11.49it/s]\n"
          ]
        },
        {
          "name": "stdout",
          "output_type": "stream",
          "text": [
            "Load calirated params \n",
            " \t {'eta': array(2.2072177, dtype=float32), 'hurst': array(0.06383608, dtype=float32), 'rho': array(-0.85115665, dtype=float32), 'xi_sqrt': array(0.2711833, dtype=float32)} \n",
            "\n",
            "Initial spot S0 =83.1076\n",
            "p0: 2.112\n"
          ]
        },
        {
          "name": "stderr",
          "output_type": "stream",
          "text": [
            "Month=5: 100%|██████████| 3000/3000 [04:16<00:00, 11.68it/s]\n"
          ]
        },
        {
          "name": "stdout",
          "output_type": "stream",
          "text": [
            "Load calirated params \n",
            " \t {'eta': array(3.1368206, dtype=float32), 'hurst': array(0.02572006, dtype=float32), 'rho': array(-0.7487836, dtype=float32), 'xi_sqrt': array(0.47113323, dtype=float32)} \n",
            "\n",
            "Initial spot S0 =82.02459999999999\n",
            "p0: 2.940\n"
          ]
        },
        {
          "name": "stderr",
          "output_type": "stream",
          "text": [
            "Month=6: 100%|██████████| 3000/3000 [04:20<00:00, 11.51it/s]\n"
          ]
        },
        {
          "name": "stdout",
          "output_type": "stream",
          "text": [
            "Load calirated params \n",
            " \t {'eta': array(2.319245, dtype=float32), 'hurst': array(0.06869617, dtype=float32), 'rho': array(-0.8412051, dtype=float32), 'xi_sqrt': array(0.05028014, dtype=float32)} \n",
            "\n",
            "Initial spot S0 =76.50659999999999\n",
            "p0: 0.358\n"
          ]
        },
        {
          "name": "stderr",
          "output_type": "stream",
          "text": [
            "Month=7: 100%|██████████| 3000/3000 [04:09<00:00, 12.02it/s]\n"
          ]
        },
        {
          "name": "stdout",
          "output_type": "stream",
          "text": [
            "Load calirated params \n",
            " \t {'eta': array(2.2069018, dtype=float32), 'hurst': array(0.05163295, dtype=float32), 'rho': array(-0.8056911, dtype=float32), 'xi_sqrt': array(0.17182197, dtype=float32)} \n",
            "\n",
            "Initial spot S0 =82.3726\n",
            "p0: 1.339\n"
          ]
        },
        {
          "name": "stderr",
          "output_type": "stream",
          "text": [
            "Month=8: 100%|██████████| 3000/3000 [04:13<00:00, 11.85it/s]\n"
          ]
        },
        {
          "name": "stdout",
          "output_type": "stream",
          "text": [
            "Load calirated params \n",
            " \t {'eta': array(2.2644217, dtype=float32), 'hurst': array(0.09229718, dtype=float32), 'rho': array(-0.8372041, dtype=float32), 'xi_sqrt': array(0.05011558, dtype=float32)} \n",
            "\n",
            "Initial spot S0 =79.337\n",
            "p0: 0.372\n"
          ]
        },
        {
          "name": "stderr",
          "output_type": "stream",
          "text": [
            "Month=9: 100%|██████████| 3000/3000 [04:08<00:00, 12.08it/s]\n"
          ]
        },
        {
          "name": "stdout",
          "output_type": "stream",
          "text": [
            "Load calirated params \n",
            " \t {'eta': array(1.9532868, dtype=float32), 'hurst': array(0.02511391, dtype=float32), 'rho': array(-0.73340106, dtype=float32), 'xi_sqrt': array(0.06674874, dtype=float32)} \n",
            "\n",
            "Initial spot S0 =73.5686\n",
            "p0: 0.486\n"
          ]
        },
        {
          "name": "stderr",
          "output_type": "stream",
          "text": [
            "Month=10: 100%|██████████| 3000/3000 [04:02<00:00, 12.38it/s]\n"
          ]
        },
        {
          "name": "stdout",
          "output_type": "stream",
          "text": [
            "Load calirated params \n",
            " \t {'eta': array(1.9764926, dtype=float32), 'hurst': array(0.0668933, dtype=float32), 'rho': array(-0.82157904, dtype=float32), 'xi_sqrt': array(0.25470775, dtype=float32)} \n",
            "\n",
            "Initial spot S0 =77.122\n",
            "p0: 1.890\n"
          ]
        },
        {
          "name": "stderr",
          "output_type": "stream",
          "text": [
            "Month=11: 100%|██████████| 3000/3000 [04:02<00:00, 12.35it/s]\n"
          ]
        },
        {
          "name": "stdout",
          "output_type": "stream",
          "text": [
            "Load calirated params \n",
            " \t {'eta': array(2.1945572, dtype=float32), 'hurst': array(0.06761874, dtype=float32), 'rho': array(-0.8346016, dtype=float32), 'xi_sqrt': array(0.05024514, dtype=float32)} \n",
            "\n",
            "Initial spot S0 =81.5314\n",
            "p0: 0.388\n"
          ]
        },
        {
          "name": "stderr",
          "output_type": "stream",
          "text": [
            "Month=12: 100%|██████████| 3000/3000 [03:59<00:00, 12.54it/s]\n"
          ]
        }
      ],
      "source": [
        "variance=[]\n",
        "for month in range(1, 13):\n",
        "    params = calibrated_params[month]\n",
        "\n",
        "    hurst = params[\"hurst\"]\n",
        "    rho = params[\"rho\"]\n",
        "    eta = params[\"eta\"]\n",
        "    xi = params[\"xi_sqrt\"] ** 2\n",
        "    cost = (0.0,)\n",
        "    dt = 1.0 / 365\n",
        "    forward_offset = 15.0 / 356\n",
        "    T = 30.0 / 365\n",
        "    S0 = K = df_spx_vix[df_spx_vix.DATE.dt.month == month][\"SPX\"].to_numpy()[0]/50\n",
        "\n",
        "    print(f\"Load calirated params \\n \\t {params} \\n\")\n",
        "    print(f\"Initial spot S0 ={S0}\")\n",
        "\n",
        "    stock = RoughBergomiStock(\n",
        "        hurst=hurst,\n",
        "        rho=rho,\n",
        "        xi=xi,\n",
        "        eta=eta,\n",
        "        cost=cost,\n",
        "        dt=dt,\n",
        "        forward_offset=forward_offset,\n",
        "    )\n",
        "    init_state = (S0, stock.xi, None)\n",
        "\n",
        "    #variance.append(stock.simulate(,init_state= init_state)['variance'])\n",
        "\n",
        "    derivative = EuropeanOption(\n",
        "        underlier=stock,\n",
        "        call=True,\n",
        "        strike=K,\n",
        "        maturity=T,\n",
        "    )\n",
        "\n",
        "    vix = VIX(stock)\n",
        "    hedge = [derivative, vix]\n",
        "\n",
        "    payoff_fn = lambda key: derivative.payoff(rng_key=key, init_state=init_state)\n",
        "    payoff = jax.vmap(payoff_fn)(jrandom.split(test_key, n_test_paths))\n",
        "    p0 = jnp.mean(payoff)\n",
        "    loss_fn = QuadraticLoss(p0=p0)\n",
        "    print(f\"p0: {p0.item():.3f}\")\n",
        "\n",
        "    model = DeepHedger(\n",
        "        derivative=derivative,\n",
        "        inputs=inputs,\n",
        "        hedge=hedge,\n",
        "        criterion=QuadraticLoss(p0=p0),\n",
        "        recur_type=\"Recur\",\n",
        "        rng_key=model_key,\n",
        "    )\n",
        "\n",
        "    optimizer = optax.adam(learning_rate=lr)\n",
        "    opt_state = optimizer.init(eqx.filter(model, eqx.is_array))\n",
        "\n",
        "    @eqx.filter_value_and_grad\n",
        "    def compute_loss(model: DeepHedger, n_simulate_paths, rng_key):  # noqa\n",
        "        return model.compute_loss(\n",
        "            init_state=init_state,\n",
        "            n_paths=n_simulate_paths,\n",
        "            rng_key=rng_key,\n",
        "        )\n",
        "\n",
        "    @eqx.filter_jit\n",
        "    def make_step(model: DeepHedger, opt_state, n_simulate_paths, rng_key):  # noqa\n",
        "\n",
        "        loss_value, grads = compute_loss(model, n_simulate_paths, rng_key)\n",
        "        updates, opt_state = optimizer.update(grads, opt_state, model)\n",
        "        model = eqx.apply_updates(model, updates)\n",
        "        return model, opt_state, loss_value\n",
        "\n",
        "    valid_keys = jrandom.split(valid_key, n_valid_paths)\n",
        "    valid_data = jax.vmap(\n",
        "        lambda key: derivative.simulate(rng_key=key, init_state=init_state)\n",
        "    )(valid_keys)\n",
        "\n",
        "    @eqx.filter_jit\n",
        "    def validate(model: SigHedger, valid_data):\n",
        "        portfolio, payoff = model.compute_pnl(\n",
        "            rng_key=None,\n",
        "            n_paths=n_valid_paths,\n",
        "            simulated_data=valid_data,\n",
        "            return_portfolio_and_payoff=True,\n",
        "        )\n",
        "        return model.criterion(portfolio, payoff)\n",
        "\n",
        "    progress = tqdm(range(n_epochs * 3), desc=f\"Month={month}\")  #\n",
        "    for i in progress:\n",
        "\n",
        "        model, opt_state, loss_value = make_step(\n",
        "            model,\n",
        "            opt_state,\n",
        "            n_simulate_paths=n_train_paths,\n",
        "            rng_key=jrandom.fold_in(train_key, i),\n",
        "        )\n",
        "\n",
        "        if i % 20 == 0:\n",
        "            valid_model = eqx.tree_inference(model, True)\n",
        "\n",
        "            # compute validate loss\n",
        "            valid_loss = validate(valid_model, valid_data)\n",
        "\n",
        "    model = eqx.tree_inference(model, True)\n",
        "    model_file = f\"../checkpoint/deephedger_month_{month}.eqx\"\n",
        "    os.makedirs(os.path.dirname(model_file), exist_ok=True)\n",
        "    eqx.tree_serialise_leaves(model_file, model)"
      ]
    },
    {
      "cell_type": "code",
      "execution_count": null,
      "metadata": {
        "id": "cygmaaosK8Yf",
        "outputId": "6dca5fbc-f651-48e4-90ae-66fa0fc6bf85"
      },
      "outputs": [
        {
          "name": "stderr",
          "output_type": "stream",
          "text": [
            " 33%|███▎      | 4/12 [00:00<00:00, 14.75it/s]"
          ]
        },
        {
          "name": "stdout",
          "output_type": "stream",
          "text": [
            "(20, 2)\n",
            "(19, 2)\n",
            "(23, 2)\n",
            "(20, 2)\n"
          ]
        },
        {
          "name": "stderr",
          "output_type": "stream",
          "text": [
            " 67%|██████▋   | 8/12 [00:00<00:00, 15.15it/s]"
          ]
        },
        {
          "name": "stdout",
          "output_type": "stream",
          "text": [
            "(21, 2)\n",
            "(21, 2)\n",
            "(20, 2)\n",
            "(23, 2)\n"
          ]
        },
        {
          "name": "stderr",
          "output_type": "stream",
          "text": [
            "100%|██████████| 12/12 [00:00<00:00, 15.21it/s]"
          ]
        },
        {
          "name": "stdout",
          "output_type": "stream",
          "text": [
            "(21, 2)\n",
            "(21, 2)\n",
            "(21, 2)\n",
            "(21, 2)\n"
          ]
        },
        {
          "name": "stderr",
          "output_type": "stream",
          "text": [
            "\n"
          ]
        },
        {
          "name": "stderr",
          "output_type": "stream",
          "text": [
            "100%|██████████| 12/12 [00:02<00:00,  4.25it/s]\n"
          ]
        }
      ],
      "source": [
        "model = DeepHedger(\n",
        "    derivative=derivative,\n",
        "    inputs=inputs,\n",
        "    hedge=hedge,\n",
        "    recur_type=\"Recur\",\n",
        "    rng_key=model_key,\n",
        ")\n",
        "deephedger_pnl_evolutions = {}\n",
        "p_0=[x/50 for x in p_0]\n",
        "for month in tqdm(range(1, 13)):\n",
        "    df_month = df_spx_vix[df_spx_vix.DATE.dt.month == month].dropna()\n",
        "    spx = df_month[\"SPX\"].to_numpy()/50\n",
        "    vix = df_month[\"VIX\"].to_numpy()\n",
        "    K = spx[0]\n",
        "    moneyness = spx / K\n",
        "    var_swap = vix / 100\n",
        "    log_moneyness = jnp.log(jnp.asarray(moneyness, dtype=jnp.float32))\n",
        "    portfolio = jnp.stack([moneyness, var_swap], axis=1)\n",
        "    var_swap = jnp.asarray(var_swap)\n",
        "    log_moneyness_var_swap = jnp.stack([moneyness, var_swap], axis=1)\n",
        "    model_file = f\"../checkpoint/deephedger_month_{month}.eqx\"\n",
        "    model = eqx.tree_deserialise_leaves(model_file, model)\n",
        "    unit = model.compute_hedge(\n",
        "        simulated_data={\n",
        "            \"spot\": jnp.array(spx)[None, ...],\n",
        "            \"variance\": jnp.array(var_swap**2)[None, ...],\n",
        "        },\n",
        "        key=None,\n",
        "    )\n",
        "\n",
        "    payoff = (spx[-1]/K -1) * (spx[-1]/K -1 > 0)\n",
        "\n",
        "    unit = unit[0, ...]\n",
        "    print(unit.shape)\n",
        "    # compute\n",
        "\n",
        "    output = unit[:-1] * jnp.diff(portfolio, axis=0)\n",
        "    output = jnp.sum(output, axis=-1)\n",
        "    output = jnp.cumsum(output, axis=0)+p_0[month-1]/K\n",
        "    output=output.at[-1].set(output[-1]- payoff)\n",
        "    deephedger_pnl_evolutions[month] = np.array(output)"
      ]
    },
    {
      "cell_type": "code",
      "execution_count": null,
      "metadata": {
        "id": "WZbNZ8I5K8Yf",
        "outputId": "63738e6f-9b81-4475-dcbf-048cf90d2cdd"
      },
      "outputs": [
        {
          "data": {
            "image/png": "[encoded data removed]",
            "text/plain": [
              "<Figure size 640x480 with 1 Axes>"
            ]
          },
          "metadata": {},
          "output_type": "display_data"
        }
      ],
      "source": [
        "plt.plot(np.concatenate(list(deephedger_pnl_evolutions.values())), label=\"RNN\")\n",
        "plt.xticks([])\n",
        "plt.legend()\n",
        "#with open('pnl_rnn.pkl', 'wb') as f:\n",
        " #  pickle.dump(deephedger_pnl_evolutions, f)"
      ]
    },
    {
      "cell_type": "code",
      "execution_count": null,
      "metadata": {
        "id": "-gLQ8GnHK8Yf"
      },
      "outputs": [],
      "source": [
        "df_month = df_spx_vix[df_spx_vix.DATE.dt.month == month].dropna()"
      ]
    },
    {
      "cell_type": "code",
      "execution_count": null,
      "metadata": {
        "id": "layZabV5K8Yf"
      },
      "outputs": [],
      "source": [
        "import matplotlib as mpl\n",
        "\n",
        "\n",
        "mpl.rc(\"figure\", dpi=300)\n",
        "mpl.rc(\"font\", family=\"Serif\", serif=[\"Times\", \"Palatino\", \"serif\"], size=18)\n",
        "mpl.rc(\"axes\", labelsize=10)\n",
        "mpl.rc(\"axes\", titlesize=12)\n",
        "mpl.rc(\"xtick\", labelsize=10)\n",
        "mpl.rc(\"ytick\", labelsize=10)\n",
        "\n",
        "# Adjust the linewidths for lines and borders\n",
        "mpl.rc(\"lines\", linewidth=1)\n",
        "mpl.rc(\"patch\", linewidth=1)\n",
        "\n",
        "# Customize the grid appearance\n",
        "mpl.rc(\"grid\", linewidth=0.5)\n",
        "mpl.rc(\"grid\", linestyle=\"--\")\n",
        "mpl.rc(\"grid\", alpha=0.7)\n",
        "\n",
        "# Set the legend font size and frame properties\n",
        "mpl.rc(\"legend\", fontsize=8)\n",
        "mpl.rc(\"legend\", frameon=True)\n",
        "mpl.rc(\"legend\", framealpha=0.7)\n",
        "mpl.rc(\"legend\", facecolor=\"white\")"
      ]
    },
    {
      "cell_type": "code",
      "execution_count": null,
      "metadata": {
        "id": "EK9VVLG3K8Yf",
        "outputId": "b05b0cf2-552e-44a7-eba4-1f5f4cfeaa38"
      },
      "outputs": [
        {
          "name": "stderr",
          "output_type": "stream",
          "text": [
            "100%|██████████| 12/12 [00:00<00:00, 849.87it/s]\n"
          ]
        }
      ],
      "source": [
        "spx_2022 = []\n",
        "\n",
        "for month in tqdm(range(1, 13)):\n",
        "    df_month = df_spx_vix[df_spx_vix.DATE.dt.month == month].dropna()\n",
        "    spx = df_month[\"SPX\"].to_numpy()\n",
        "    spx_2022.append(spx)\n",
        "\n",
        "spx_2022 = np.concatenate(spx_2022)"
      ]
    },
    {
      "cell_type": "code",
      "execution_count": null,
      "metadata": {
        "id": "m3SlwgyfK8Yf",
        "outputId": "627bc574-f203-42de-8390-d70c623fc4be"
      },
      "outputs": [
        {
          "name": "stderr",
          "output_type": "stream",
          "text": [
            "100%|██████████| 12/12 [00:00<00:00, 270.71it/s]\n"
          ]
        },
        {
          "data": {
            "text/plain": [
              "[<matplotlib.lines.Line2D at 0x43bdb72c0>]"
            ]
          },
          "execution_count": 123,
          "metadata": {},
          "output_type": "execute_result"
        },
        {
          "data": {
            "image/png": "[encoded data removed]",
            "text/plain": [
              "<Figure size 640x480 with 1 Axes>"
            ]
          },
          "metadata": {},
          "output_type": "display_data"
        }
      ],
      "source": [
        "#no hedge\n",
        "no_evolutions={}\n",
        "\n",
        "for month in tqdm(range(1, 13)):\n",
        "    cost = (0.0,)\n",
        "    dt = 1.0 / 365\n",
        "    forward_offset = 15.0 / 356\n",
        "    T = 30.0 / 365\n",
        "    S0 = K = df_spx_vix[df_spx_vix.DATE.dt.month == month][\"SPX\"].to_numpy()[0]/50\n",
        "\n",
        "\n",
        "\n",
        "    df_month = df_spx_vix[df_spx_vix.DATE.dt.month == month].dropna()\n",
        "    spx = df_month[\"SPX\"].to_numpy()/50\n",
        "    output_shape=jnp.shape( jnp.diff(spx))\n",
        "    payoff = (spx[-1]/K -1) * (spx[-1]/K -1 > 0)\n",
        "\n",
        "    output = jnp.zeros(output_shape)\n",
        "    output=output.at[0].set(output[0]+p_0[month-1]/K)\n",
        "    output  = jnp.cumsum(output, axis=0)\n",
        "    output=output.at[-1].set(output[-1]- payoff)\n",
        "    no_evolutions[month] = np.array(output)\n",
        "\n",
        "\n",
        "#with open('nono.pkl', 'wb') as f:\n",
        " #   pickle.dump(no_evolutions, f)\n",
        "#with open('nono.pkl', 'rb') as f:\n",
        " #   no_evolutions= pickle.load(f)\n",
        "plt.plot(np.concatenate(list(no_evolutions.values())))"
      ]
    },
    {
      "cell_type": "markdown",
      "metadata": {
        "id": "mml4IhOpK8Yf"
      },
      "source": [
        "### Perfect Hedge"
      ]
    },
    {
      "cell_type": "code",
      "execution_count": null,
      "metadata": {
        "id": "Vf0BIAqDK8Yg",
        "outputId": "96c6d0f8-4b9b-48fd-c87d-35de3115c272"
      },
      "outputs": [
        {
          "name": "stderr",
          "output_type": "stream",
          "text": [
            "  0%|          | 0/12 [00:00<?, ?it/s]"
          ]
        },
        {
          "name": "stdout",
          "output_type": "stream",
          "text": [
            "Load calirated params \n",
            " \t {'eta': array(2.2667425, dtype=float32), 'hurst': array(0.07116599, dtype=float32), 'rho': array(-0.8565923, dtype=float32), 'xi_sqrt': array(0.0501667, dtype=float32)} \n",
            "\n",
            "Initial spot S0 =95.9312\n"
          ]
        },
        {
          "name": "stderr",
          "output_type": "stream",
          "text": [
            "\n",
            "\u001b[A%|          | 0/19 [00:00<?, ?it/s]\n",
            "\u001b[A%|▌         | 1/19 [00:00<00:10,  1.69it/s]\n",
            "\u001b[A%|█         | 2/19 [00:01<00:09,  1.74it/s]\n",
            "\u001b[A%|█▌        | 3/19 [00:01<00:08,  1.79it/s]\n",
            "\u001b[A%|██        | 4/19 [00:02<00:08,  1.77it/s]\n",
            "\u001b[A%|██▋       | 5/19 [00:02<00:08,  1.63it/s]\n",
            "\u001b[A%|███▏      | 6/19 [00:03<00:08,  1.56it/s]\n",
            "\u001b[A%|███▋      | 7/19 [00:04<00:10,  1.17it/s]\n",
            "\u001b[A%|████▏     | 8/19 [00:05<00:09,  1.12it/s]\n",
            "\u001b[A%|████▋     | 9/19 [00:07<00:11,  1.10s/it]\n",
            "\u001b[A%|█████▎    | 10/19 [00:09<00:11,  1.31s/it]\n",
            "\u001b[A%|█████▊    | 11/19 [00:10<00:11,  1.43s/it]\n",
            "\u001b[A%|██████▎   | 12/19 [00:12<00:10,  1.47s/it]\n",
            "\u001b[A%|██████▊   | 13/19 [00:13<00:08,  1.38s/it]\n",
            "\u001b[A%|███████▎  | 14/19 [00:14<00:06,  1.28s/it]\n",
            "\u001b[A%|███████▉  | 15/19 [00:15<00:04,  1.17s/it]\n",
            "\u001b[A%|████████▍ | 16/19 [00:16<00:03,  1.05s/it]\n",
            "\u001b[A%|████████▉ | 17/19 [00:16<00:01,  1.11it/s]\n",
            "\u001b[A%|█████████▍| 18/19 [00:17<00:00,  1.26it/s]\n",
            "100%|██████████| 19/19 [00:18<00:00,  1.05it/s]\n",
            "  8%|▊         | 1/12 [00:18<03:20, 18.27s/it]"
          ]
        },
        {
          "name": "stdout",
          "output_type": "stream",
          "text": [
            "Load calirated params \n",
            " \t {'eta': array(2.2840803, dtype=float32), 'hurst': array(0.07239809, dtype=float32), 'rho': array(-0.8430177, dtype=float32), 'xi_sqrt': array(0.05022182, dtype=float32)} \n",
            "\n",
            "Initial spot S0 =90.9308\n"
          ]
        },
        {
          "name": "stderr",
          "output_type": "stream",
          "text": [
            "\n",
            "\u001b[A%|          | 0/18 [00:00<?, ?it/s]\n",
            "\u001b[A%|▌         | 1/18 [00:00<00:08,  1.91it/s]\n",
            "\u001b[A%|█         | 2/18 [00:01<00:08,  1.89it/s]\n",
            "\u001b[A%|█▋        | 3/18 [00:01<00:07,  1.88it/s]\n",
            "\u001b[A%|██▏       | 4/18 [00:02<00:08,  1.72it/s]\n",
            "\u001b[A%|██▊       | 5/18 [00:02<00:07,  1.66it/s]\n",
            "\u001b[A%|███▎      | 6/18 [00:03<00:08,  1.46it/s]\n",
            "\u001b[A%|███▉      | 7/18 [00:04<00:08,  1.34it/s]\n",
            "\u001b[A%|████▍     | 8/18 [00:06<00:09,  1.02it/s]\n",
            "\u001b[A%|█████     | 9/18 [00:07<00:10,  1.20s/it]\n",
            "\u001b[A%|█████▌    | 10/18 [00:09<00:10,  1.35s/it]\n",
            "\u001b[A%|██████    | 11/18 [00:10<00:09,  1.40s/it]\n",
            "\u001b[A%|██████▋   | 12/18 [00:12<00:07,  1.32s/it]\n",
            "\u001b[A%|███████▏  | 13/18 [00:13<00:06,  1.22s/it]\n",
            "\u001b[A%|███████▊  | 14/18 [00:13<00:04,  1.12s/it]\n",
            "\u001b[A%|████████▎ | 15/18 [00:14<00:03,  1.01s/it]\n",
            "\u001b[A%|████████▉ | 16/18 [00:15<00:01,  1.16it/s]\n",
            "\u001b[A%|█████████▍| 17/18 [00:15<00:00,  1.34it/s]\n",
            "100%|██████████| 18/18 [00:16<00:00,  1.11it/s]\n",
            " 17%|█▋        | 2/12 [00:34<02:51, 17.15s/it]"
          ]
        },
        {
          "name": "stdout",
          "output_type": "stream",
          "text": [
            "Load calirated params \n",
            " \t {'eta': array(2.5070953, dtype=float32), 'hurst': array(0.05068801, dtype=float32), 'rho': array(-0.7581486, dtype=float32), 'xi_sqrt': array(0.38287702, dtype=float32)} \n",
            "\n",
            "Initial spot S0 =86.1252\n"
          ]
        },
        {
          "name": "stderr",
          "output_type": "stream",
          "text": [
            "\n",
            "\u001b[A%|          | 0/22 [00:00<?, ?it/s]\n",
            "\u001b[A%|▍         | 1/22 [00:00<00:13,  1.59it/s]\n",
            "\u001b[A%|▉         | 2/22 [00:01<00:11,  1.69it/s]\n",
            "\u001b[A%|█▎        | 3/22 [00:01<00:11,  1.70it/s]\n",
            "\u001b[A%|█▊        | 4/22 [00:02<00:10,  1.79it/s]\n",
            "\u001b[A%|██▎       | 5/22 [00:02<00:09,  1.85it/s]\n",
            "\u001b[A%|██▋       | 6/22 [00:03<00:08,  1.84it/s]\n",
            "\u001b[A%|███▏      | 7/22 [00:03<00:07,  1.89it/s]\n",
            "\u001b[A%|███▋      | 8/22 [00:04<00:07,  1.76it/s]\n",
            "\u001b[A%|████      | 9/22 [00:05<00:07,  1.67it/s]\n",
            "\u001b[A%|████▌     | 10/22 [00:06<00:08,  1.49it/s]\n",
            "\u001b[A%|█████     | 11/22 [00:06<00:08,  1.35it/s]\n",
            "\u001b[A%|█████▍    | 12/22 [00:08<00:09,  1.04it/s]\n",
            "\u001b[A%|█████▉    | 13/22 [00:10<00:10,  1.19s/it]\n",
            "\u001b[A%|██████▎   | 14/22 [00:11<00:10,  1.34s/it]\n",
            "\u001b[A%|██████▊   | 15/22 [00:13<00:09,  1.40s/it]\n",
            "\u001b[A%|███████▎  | 16/22 [00:14<00:07,  1.32s/it]\n",
            "\u001b[A%|███████▋  | 17/22 [00:15<00:06,  1.23s/it]\n",
            "\u001b[A%|████████▏ | 18/22 [00:16<00:04,  1.11s/it]\n",
            "\u001b[A%|████████▋ | 19/22 [00:17<00:03,  1.14s/it]\n",
            "\u001b[A%|█████████ | 20/22 [00:18<00:01,  1.05it/s]\n",
            "\u001b[A%|█████████▌| 21/22 [00:18<00:00,  1.23it/s]\n",
            "100%|██████████| 22/22 [00:19<00:00,  1.16it/s]\n",
            " 25%|██▌       | 3/12 [00:53<02:42, 18.09s/it]"
          ]
        },
        {
          "name": "stdout",
          "output_type": "stream",
          "text": [
            "Load calirated params \n",
            " \t {'eta': array(2.2346134, dtype=float32), 'hurst': array(0.0511454, dtype=float32), 'rho': array(-0.8372275, dtype=float32), 'xi_sqrt': array(0.05034192, dtype=float32)} \n",
            "\n",
            "Initial spot S0 =90.9172\n"
          ]
        },
        {
          "name": "stderr",
          "output_type": "stream",
          "text": [
            "\n",
            "\u001b[A%|          | 0/19 [00:00<?, ?it/s]\n",
            "\u001b[A%|▌         | 1/19 [00:00<00:08,  2.08it/s]\n",
            "\u001b[A%|█         | 2/19 [00:00<00:08,  2.03it/s]\n",
            "\u001b[A%|█▌        | 3/19 [00:01<00:07,  2.03it/s]\n",
            "\u001b[A%|██        | 4/19 [00:01<00:07,  2.03it/s]\n",
            "\u001b[A%|██▋       | 5/19 [00:02<00:07,  1.82it/s]\n",
            "\u001b[A%|███▏      | 6/19 [00:03<00:07,  1.74it/s]\n",
            "\u001b[A%|███▋      | 7/19 [00:04<00:07,  1.53it/s]\n",
            "\u001b[A%|████▏     | 8/19 [00:04<00:07,  1.39it/s]\n",
            "\u001b[A%|████▋     | 9/19 [00:06<00:09,  1.06it/s]\n",
            "\u001b[A%|█████▎    | 10/19 [00:08<00:10,  1.17s/it]\n",
            "\u001b[A%|█████▊    | 11/19 [00:09<00:10,  1.31s/it]\n",
            "\u001b[A%|██████▎   | 12/19 [00:11<00:09,  1.37s/it]\n",
            "\u001b[A%|██████▊   | 13/19 [00:12<00:07,  1.29s/it]\n",
            "\u001b[A%|███████▎  | 14/19 [00:13<00:06,  1.21s/it]\n",
            "\u001b[A%|███████▉  | 15/19 [00:14<00:04,  1.09s/it]\n",
            "\u001b[A%|████████▍ | 16/19 [00:14<00:02,  1.01it/s]\n",
            "\u001b[A%|████████▉ | 17/19 [00:15<00:01,  1.20it/s]\n",
            "\u001b[A%|█████████▍| 18/19 [00:15<00:00,  1.36it/s]\n",
            "100%|██████████| 19/19 [00:16<00:00,  1.16it/s]\n",
            " 33%|███▎      | 4/12 [01:10<02:19, 17.42s/it]"
          ]
        },
        {
          "name": "stdout",
          "output_type": "stream",
          "text": [
            "Load calirated params \n",
            " \t {'eta': array(2.2072177, dtype=float32), 'hurst': array(0.06383608, dtype=float32), 'rho': array(-0.85115665, dtype=float32), 'xi_sqrt': array(0.2711833, dtype=float32)} \n",
            "\n",
            "Initial spot S0 =83.1076\n"
          ]
        },
        {
          "name": "stderr",
          "output_type": "stream",
          "text": [
            "\n",
            "\u001b[A%|          | 0/20 [00:00<?, ?it/s]\n",
            "\u001b[A%|▌         | 1/20 [00:00<00:10,  1.90it/s]\n",
            "\u001b[A%|█         | 2/20 [00:01<00:09,  1.92it/s]\n",
            "\u001b[A%|█▌        | 3/20 [00:01<00:08,  1.93it/s]\n",
            "\u001b[A%|██        | 4/20 [00:02<00:08,  1.94it/s]\n",
            "\u001b[A%|██▌       | 5/20 [00:02<00:07,  1.95it/s]\n",
            "\u001b[A%|███       | 6/20 [00:03<00:07,  1.76it/s]\n",
            "\u001b[A%|███▌      | 7/20 [00:03<00:07,  1.68it/s]\n",
            "\u001b[A%|████      | 8/20 [00:04<00:08,  1.46it/s]\n",
            "\u001b[A%|████▌     | 9/20 [00:05<00:08,  1.32it/s]\n",
            "\u001b[A%|█████     | 10/20 [00:07<00:09,  1.01it/s]\n",
            "\u001b[A%|█████▌    | 11/20 [00:08<00:10,  1.21s/it]\n",
            "\u001b[A%|██████    | 12/20 [00:10<00:10,  1.36s/it]\n",
            "\u001b[A%|██████▌   | 13/20 [00:12<00:09,  1.42s/it]\n",
            "\u001b[A%|███████   | 14/20 [00:13<00:08,  1.33s/it]\n",
            "\u001b[A%|███████▌  | 15/20 [00:14<00:06,  1.24s/it]\n",
            "\u001b[A%|████████  | 16/20 [00:15<00:04,  1.13s/it]\n",
            "\u001b[A%|████████▌ | 17/20 [00:15<00:03,  1.02s/it]\n",
            "\u001b[A%|█████████ | 18/20 [00:16<00:01,  1.15it/s]\n",
            "\u001b[A%|█████████▌| 19/20 [00:16<00:00,  1.32it/s]\n",
            "100%|██████████| 20/20 [00:17<00:00,  1.14it/s]\n",
            " 42%|████▏     | 5/12 [01:27<02:02, 17.50s/it]"
          ]
        },
        {
          "name": "stdout",
          "output_type": "stream",
          "text": [
            "Load calirated params \n",
            " \t {'eta': array(3.1368206, dtype=float32), 'hurst': array(0.02572006, dtype=float32), 'rho': array(-0.7487836, dtype=float32), 'xi_sqrt': array(0.47113323, dtype=float32)} \n",
            "\n",
            "Initial spot S0 =82.02459999999999\n"
          ]
        },
        {
          "name": "stderr",
          "output_type": "stream",
          "text": [
            "\n",
            "\u001b[A%|          | 0/20 [00:00<?, ?it/s]\n",
            "\u001b[A%|▌         | 1/20 [00:00<00:09,  1.94it/s]\n",
            "\u001b[A%|█         | 2/20 [00:01<00:09,  1.99it/s]\n",
            "\u001b[A%|█▌        | 3/20 [00:01<00:08,  1.96it/s]\n",
            "\u001b[A%|██        | 4/20 [00:02<00:08,  1.99it/s]\n",
            "\u001b[A%|██▌       | 5/20 [00:02<00:07,  2.02it/s]\n",
            "\u001b[A%|███       | 6/20 [00:03<00:07,  1.81it/s]\n",
            "\u001b[A%|███▌      | 7/20 [00:03<00:07,  1.73it/s]\n",
            "\u001b[A%|████      | 8/20 [00:04<00:07,  1.52it/s]\n",
            "\u001b[A%|████▌     | 9/20 [00:05<00:08,  1.37it/s]\n",
            "\u001b[A%|█████     | 10/20 [00:06<00:09,  1.05it/s]\n",
            "\u001b[A%|█████▌    | 11/20 [00:08<00:10,  1.18s/it]\n",
            "\u001b[A%|██████    | 12/20 [00:10<00:10,  1.32s/it]\n",
            "\u001b[A%|██████▌   | 13/20 [00:11<00:09,  1.37s/it]\n",
            "\u001b[A%|███████   | 14/20 [00:12<00:07,  1.31s/it]\n",
            "\u001b[A%|███████▌  | 15/20 [00:13<00:06,  1.23s/it]\n",
            "\u001b[A%|████████  | 16/20 [00:14<00:04,  1.11s/it]\n",
            "\u001b[A%|████████▌ | 17/20 [00:15<00:03,  1.01s/it]\n",
            "\u001b[A%|█████████ | 18/20 [00:16<00:01,  1.17it/s]\n",
            "\u001b[A%|█████████▌| 19/20 [00:16<00:00,  1.35it/s]\n",
            "100%|██████████| 20/20 [00:17<00:00,  1.17it/s]\n",
            " 50%|█████     | 6/12 [01:45<01:44, 17.39s/it]"
          ]
        },
        {
          "name": "stdout",
          "output_type": "stream",
          "text": [
            "Load calirated params \n",
            " \t {'eta': array(2.319245, dtype=float32), 'hurst': array(0.06869617, dtype=float32), 'rho': array(-0.8412051, dtype=float32), 'xi_sqrt': array(0.05028014, dtype=float32)} \n",
            "\n",
            "Initial spot S0 =76.50659999999999\n"
          ]
        },
        {
          "name": "stderr",
          "output_type": "stream",
          "text": [
            "\n",
            "\u001b[A%|          | 0/19 [00:00<?, ?it/s]\n",
            "\u001b[A%|▌         | 1/19 [00:00<00:08,  2.04it/s]\n",
            "\u001b[A%|█         | 2/19 [00:01<00:08,  1.95it/s]\n",
            "\u001b[A%|█▌        | 3/19 [00:01<00:07,  2.02it/s]\n",
            "\u001b[A%|██        | 4/19 [00:01<00:07,  2.07it/s]\n",
            "\u001b[A%|██▋       | 5/19 [00:02<00:07,  1.86it/s]\n",
            "\u001b[A%|███▏      | 6/19 [00:03<00:07,  1.74it/s]\n",
            "\u001b[A%|███▋      | 7/19 [00:04<00:07,  1.54it/s]\n",
            "\u001b[A%|████▏     | 8/19 [00:04<00:07,  1.39it/s]\n",
            "\u001b[A%|████▋     | 9/19 [00:06<00:09,  1.06it/s]\n",
            "\u001b[A%|█████▎    | 10/19 [00:08<00:10,  1.18s/it]\n",
            "\u001b[A%|█████▊    | 11/19 [00:09<00:10,  1.33s/it]\n",
            "\u001b[A%|██████▎   | 12/19 [00:11<00:09,  1.41s/it]\n",
            "\u001b[A%|██████▊   | 13/19 [00:12<00:07,  1.32s/it]\n",
            "\u001b[A%|███████▎  | 14/19 [00:13<00:06,  1.22s/it]\n",
            "\u001b[A%|███████▉  | 15/19 [00:14<00:04,  1.11s/it]\n",
            "\u001b[A%|████████▍ | 16/19 [00:15<00:02,  1.00it/s]\n",
            "\u001b[A%|████████▉ | 17/19 [00:15<00:01,  1.18it/s]\n",
            "\u001b[A%|█████████▍| 18/19 [00:15<00:00,  1.35it/s]\n",
            "100%|██████████| 19/19 [00:16<00:00,  1.15it/s]\n",
            " 58%|█████▊    | 7/12 [02:01<01:25, 17.11s/it]"
          ]
        },
        {
          "name": "stdout",
          "output_type": "stream",
          "text": [
            "Load calirated params \n",
            " \t {'eta': array(2.2069018, dtype=float32), 'hurst': array(0.05163295, dtype=float32), 'rho': array(-0.8056911, dtype=float32), 'xi_sqrt': array(0.17182197, dtype=float32)} \n",
            "\n",
            "Initial spot S0 =82.3726\n"
          ]
        },
        {
          "name": "stderr",
          "output_type": "stream",
          "text": [
            "\n",
            "\u001b[A%|          | 0/22 [00:00<?, ?it/s]\n",
            "\u001b[A%|▍         | 1/22 [00:00<00:11,  1.79it/s]\n",
            "\u001b[A%|▉         | 2/22 [00:01<00:11,  1.80it/s]\n",
            "\u001b[A%|█▎        | 3/22 [00:01<00:09,  1.91it/s]\n",
            "\u001b[A%|█▊        | 4/22 [00:02<00:09,  1.98it/s]\n",
            "\u001b[A%|██▎       | 5/22 [00:02<00:08,  1.96it/s]\n",
            "\u001b[A%|██▋       | 6/22 [00:03<00:08,  1.99it/s]\n",
            "\u001b[A%|███▏      | 7/22 [00:03<00:07,  2.01it/s]\n",
            "\u001b[A%|███▋      | 8/22 [00:04<00:07,  1.87it/s]\n",
            "\u001b[A%|████      | 9/22 [00:04<00:07,  1.76it/s]\n",
            "\u001b[A%|████▌     | 10/22 [00:05<00:07,  1.55it/s]\n",
            "\u001b[A%|█████     | 11/22 [00:06<00:08,  1.37it/s]\n",
            "\u001b[A%|█████▍    | 12/22 [00:07<00:09,  1.06it/s]\n",
            "\u001b[A%|█████▉    | 13/22 [00:09<00:10,  1.17s/it]\n",
            "\u001b[A%|██████▎   | 14/22 [00:11<00:10,  1.32s/it]\n",
            "\u001b[A%|██████▊   | 15/22 [00:12<00:09,  1.36s/it]\n",
            "\u001b[A%|███████▎  | 16/22 [00:13<00:07,  1.29s/it]\n",
            "\u001b[A%|███████▋  | 17/22 [00:14<00:06,  1.20s/it]\n",
            "\u001b[A%|████████▏ | 18/22 [00:15<00:04,  1.09s/it]\n",
            "\u001b[A%|████████▋ | 19/22 [00:16<00:02,  1.01it/s]\n",
            "\u001b[A%|█████████ | 20/22 [00:17<00:01,  1.19it/s]\n",
            "\u001b[A%|█████████▌| 21/22 [00:17<00:00,  1.36it/s]\n",
            "100%|██████████| 22/22 [00:17<00:00,  1.22it/s]\n",
            " 67%|██████▋   | 8/12 [02:19<01:09, 17.42s/it]"
          ]
        },
        {
          "name": "stdout",
          "output_type": "stream",
          "text": [
            "Load calirated params \n",
            " \t {'eta': array(2.2644217, dtype=float32), 'hurst': array(0.09229718, dtype=float32), 'rho': array(-0.8372041, dtype=float32), 'xi_sqrt': array(0.05011558, dtype=float32)} \n",
            "\n",
            "Initial spot S0 =79.337\n"
          ]
        },
        {
          "name": "stderr",
          "output_type": "stream",
          "text": [
            "\n",
            "\u001b[A%|          | 0/20 [00:00<?, ?it/s]\n",
            "\u001b[A%|▌         | 1/20 [00:00<00:09,  2.09it/s]\n",
            "\u001b[A%|█         | 2/20 [00:00<00:08,  2.10it/s]\n",
            "\u001b[A%|█▌        | 3/20 [00:01<00:08,  2.08it/s]\n",
            "\u001b[A%|██        | 4/20 [00:01<00:07,  2.04it/s]\n",
            "\u001b[A%|██▌       | 5/20 [00:02<00:07,  2.03it/s]\n",
            "\u001b[A%|███       | 6/20 [00:03<00:09,  1.43it/s]\n",
            "\u001b[A%|███▌      | 7/20 [00:04<00:08,  1.45it/s]\n",
            "\u001b[A%|████      | 8/20 [00:05<00:08,  1.36it/s]\n",
            "\u001b[A%|████▌     | 9/20 [00:05<00:08,  1.28it/s]\n",
            "\u001b[A%|█████     | 10/20 [00:07<00:09,  1.01it/s]\n",
            "\u001b[A%|█████▌    | 11/20 [00:09<00:10,  1.21s/it]\n",
            "\u001b[A%|██████    | 12/20 [00:10<00:10,  1.36s/it]\n",
            "\u001b[A%|██████▌   | 13/20 [00:12<00:09,  1.41s/it]\n",
            "\u001b[A%|███████   | 14/20 [00:13<00:07,  1.32s/it]\n",
            "\u001b[A%|███████▌  | 15/20 [00:14<00:06,  1.22s/it]\n",
            "\u001b[A%|████████  | 16/20 [00:15<00:04,  1.10s/it]\n",
            "\u001b[A%|████████▌ | 17/20 [00:15<00:02,  1.01it/s]\n",
            "\u001b[A%|█████████ | 18/20 [00:16<00:01,  1.19it/s]\n",
            "\u001b[A%|█████████▌| 19/20 [00:16<00:00,  1.37it/s]\n",
            "100%|██████████| 20/20 [00:17<00:00,  1.15it/s]\n",
            " 75%|███████▌  | 9/12 [02:37<00:52, 17.45s/it]"
          ]
        },
        {
          "name": "stdout",
          "output_type": "stream",
          "text": [
            "Load calirated params \n",
            " \t {'eta': array(1.9532868, dtype=float32), 'hurst': array(0.02511391, dtype=float32), 'rho': array(-0.73340106, dtype=float32), 'xi_sqrt': array(0.06674874, dtype=float32)} \n",
            "\n",
            "Initial spot S0 =73.5686\n"
          ]
        },
        {
          "name": "stderr",
          "output_type": "stream",
          "text": [
            "\n",
            "\u001b[A%|          | 0/20 [00:00<?, ?it/s]\n",
            "\u001b[A%|▌         | 1/20 [00:00<00:09,  2.04it/s]\n",
            "\u001b[A%|█         | 2/20 [00:00<00:08,  2.06it/s]\n",
            "\u001b[A%|█▌        | 3/20 [00:01<00:08,  2.04it/s]\n",
            "\u001b[A%|██        | 4/20 [00:01<00:07,  2.05it/s]\n",
            "\u001b[A%|██▌       | 5/20 [00:02<00:07,  2.07it/s]\n",
            "\u001b[A%|███       | 6/20 [00:03<00:07,  1.90it/s]\n",
            "\u001b[A%|███▌      | 7/20 [00:03<00:07,  1.78it/s]\n",
            "\u001b[A%|████      | 8/20 [00:04<00:07,  1.56it/s]\n",
            "\u001b[A%|████▌     | 9/20 [00:05<00:07,  1.40it/s]\n",
            "\u001b[A%|█████     | 10/20 [00:06<00:09,  1.07it/s]\n",
            "\u001b[A%|█████▌    | 11/20 [00:08<00:10,  1.17s/it]\n",
            "\u001b[A%|██████    | 12/20 [00:10<00:10,  1.34s/it]\n",
            "\u001b[A%|██████▌   | 13/20 [00:11<00:09,  1.39s/it]\n",
            "\u001b[A%|███████   | 14/20 [00:12<00:07,  1.31s/it]\n",
            "\u001b[A%|███████▌  | 15/20 [00:13<00:06,  1.22s/it]\n",
            "\u001b[A%|████████  | 16/20 [00:14<00:04,  1.10s/it]\n",
            "\u001b[A%|████████▌ | 17/20 [00:15<00:02,  1.01it/s]\n",
            "\u001b[A%|█████████ | 18/20 [00:15<00:01,  1.19it/s]\n",
            "\u001b[A%|█████████▌| 19/20 [00:16<00:00,  1.37it/s]\n",
            "100%|██████████| 20/20 [00:16<00:00,  1.19it/s]\n",
            " 83%|████████▎ | 10/12 [02:54<00:34, 17.29s/it]"
          ]
        },
        {
          "name": "stdout",
          "output_type": "stream",
          "text": [
            "Load calirated params \n",
            " \t {'eta': array(1.9764926, dtype=float32), 'hurst': array(0.0668933, dtype=float32), 'rho': array(-0.82157904, dtype=float32), 'xi_sqrt': array(0.25470775, dtype=float32)} \n",
            "\n",
            "Initial spot S0 =77.122\n"
          ]
        },
        {
          "name": "stderr",
          "output_type": "stream",
          "text": [
            "\n",
            "\u001b[A%|          | 0/20 [00:00<?, ?it/s]\n",
            "\u001b[A%|▌         | 1/20 [00:00<00:09,  2.10it/s]\n",
            "\u001b[A%|█         | 2/20 [00:00<00:08,  2.04it/s]\n",
            "\u001b[A%|█▌        | 3/20 [00:01<00:08,  2.03it/s]\n",
            "\u001b[A%|██        | 4/20 [00:01<00:07,  2.06it/s]\n",
            "\u001b[A%|██▌       | 5/20 [00:02<00:07,  2.07it/s]\n",
            "\u001b[A%|███       | 6/20 [00:03<00:07,  1.87it/s]\n",
            "\u001b[A%|███▌      | 7/20 [00:03<00:07,  1.76it/s]\n",
            "\u001b[A%|████      | 8/20 [00:04<00:07,  1.52it/s]\n",
            "\u001b[A%|████▌     | 9/20 [00:05<00:08,  1.36it/s]\n",
            "\u001b[A%|█████     | 10/20 [00:06<00:09,  1.02it/s]\n",
            "\u001b[A%|█████▌    | 11/20 [00:08<00:10,  1.22s/it]\n",
            "\u001b[A%|██████    | 12/20 [00:10<00:10,  1.36s/it]\n",
            "\u001b[A%|██████▌   | 13/20 [00:11<00:09,  1.41s/it]\n",
            "\u001b[A%|███████   | 14/20 [00:13<00:07,  1.33s/it]\n",
            "\u001b[A%|███████▌  | 15/20 [00:14<00:06,  1.24s/it]\n",
            "\u001b[A%|████████  | 16/20 [00:15<00:04,  1.13s/it]\n",
            "\u001b[A%|████████▌ | 17/20 [00:15<00:03,  1.02s/it]\n",
            "\u001b[A%|█████████ | 18/20 [00:16<00:01,  1.15it/s]\n",
            "\u001b[A%|█████████▌| 19/20 [00:16<00:00,  1.32it/s]\n",
            "100%|██████████| 20/20 [00:17<00:00,  1.16it/s]\n",
            " 92%|█████████▏| 11/12 [03:11<00:17, 17.31s/it]"
          ]
        },
        {
          "name": "stdout",
          "output_type": "stream",
          "text": [
            "Load calirated params \n",
            " \t {'eta': array(2.1945572, dtype=float32), 'hurst': array(0.06761874, dtype=float32), 'rho': array(-0.8346016, dtype=float32), 'xi_sqrt': array(0.05024514, dtype=float32)} \n",
            "\n",
            "Initial spot S0 =81.5314\n"
          ]
        },
        {
          "name": "stderr",
          "output_type": "stream",
          "text": [
            "\n",
            "\u001b[A%|          | 0/20 [00:00<?, ?it/s]\n",
            "\u001b[A%|▌         | 1/20 [00:00<00:09,  2.00it/s]\n",
            "\u001b[A%|█         | 2/20 [00:01<00:09,  1.94it/s]\n",
            "\u001b[A%|█▌        | 3/20 [00:01<00:08,  1.96it/s]\n",
            "\u001b[A%|██        | 4/20 [00:02<00:08,  1.95it/s]\n",
            "\u001b[A%|██▌       | 5/20 [00:02<00:07,  1.94it/s]\n",
            "\u001b[A%|███       | 6/20 [00:03<00:07,  1.80it/s]\n",
            "\u001b[A%|███▌      | 7/20 [00:03<00:07,  1.73it/s]\n",
            "\u001b[A%|████      | 8/20 [00:04<00:07,  1.54it/s]\n",
            "\u001b[A%|████▌     | 9/20 [00:05<00:07,  1.39it/s]\n",
            "\u001b[A%|█████     | 10/20 [00:06<00:09,  1.05it/s]\n",
            "\u001b[A%|█████▌    | 11/20 [00:08<00:10,  1.19s/it]\n",
            "\u001b[A%|██████    | 12/20 [00:10<00:10,  1.32s/it]\n",
            "\u001b[A%|██████▌   | 13/20 [00:11<00:09,  1.38s/it]\n",
            "\u001b[A%|███████   | 14/20 [00:12<00:07,  1.31s/it]\n",
            "\u001b[A%|███████▌  | 15/20 [00:14<00:06,  1.22s/it]\n",
            "\u001b[A%|████████  | 16/20 [00:14<00:04,  1.10s/it]\n",
            "\u001b[A%|████████▌ | 17/20 [00:15<00:02,  1.02it/s]\n",
            "\u001b[A%|█████████ | 18/20 [00:16<00:01,  1.20it/s]\n",
            "\u001b[A%|█████████▌| 19/20 [00:16<00:00,  1.38it/s]\n",
            "100%|██████████| 20/20 [00:16<00:00,  1.18it/s]\n",
            "100%|██████████| 12/12 [03:28<00:00, 17.38s/it]\n"
          ]
        }
      ],
      "source": [
        "delta_pnl_evolutions = {}\n",
        "for month in tqdm(range(1, 13)):\n",
        "\n",
        "    params = calibrated_params[month]\n",
        "    hurst = params[\"hurst\"]\n",
        "    rho = params[\"rho\"]\n",
        "    eta = params[\"eta\"]\n",
        "    xi = params[\"xi_sqrt\"] ** 2\n",
        "    cost = (0.0,)\n",
        "    dt = 1.0 / 365\n",
        "    forward_offset = 15.0 / 356\n",
        "    T = 30.0 / 365\n",
        "    S0 = K = df_spx_vix[df_spx_vix.DATE.dt.month == month][\"SPX\"].to_numpy()[0]/50\n",
        "\n",
        "    print(f\"Load calirated params \\n \\t {params} \\n\")\n",
        "    print(f\"Initial spot S0 ={S0}\")\n",
        "\n",
        "    stock = RoughBergomiStock(\n",
        "        hurst=hurst,\n",
        "        rho=rho,\n",
        "        xi=xi,\n",
        "        eta=eta,\n",
        "        cost=cost,\n",
        "        dt=dt,\n",
        "        forward_offset=forward_offset,\n",
        "    )\n",
        "    init_state = (S0, stock.xi, None)\n",
        "\n",
        "    derivative = EuropeanOption(\n",
        "        underlier=stock,\n",
        "        call=True,\n",
        "        strike=K,\n",
        "        maturity=T,\n",
        "    )\n",
        "    df_month = df_spx_vix[df_spx_vix.DATE.dt.month == month].dropna()\n",
        "    spx = df_month[\"SPX\"].to_numpy()/50\n",
        "    vix = df_month[\"VIX\"].to_numpy()\n",
        "    K = spx[0]\n",
        "    moneyness = spx / K\n",
        "    var_swap = vix / 100\n",
        "\n",
        "    delta_hedger = RBergomiDeltaHedger(derivative)\n",
        "    unit = delta_hedger.compute_hedge(\n",
        "        simulated_data={\n",
        "            \"spot\": jnp.array(spx)[None, ...],\n",
        "            \"variance\": jnp.array(var_swap**2)[None, ...],\n",
        "            \"forward_variance\": jnp.array(var_swap**2)[None, ...],\n",
        "        },\n",
        "        key=jrandom.PRNGKey(0),\n",
        "    )\n",
        "    unit = unit[0, ...]\n",
        "    portfolio = jnp.stack([moneyness, var_swap**2], axis=1)\n",
        "    #print(unit.shape)\n",
        "\n",
        "    payoff = (spx[-1]/K -1) * (spx[-1]/K -1 > 0)\n",
        "    # compute\n",
        "    output = unit[:-1] * jnp.diff(portfolio, axis=0)\n",
        "    output = jnp.sum(output, axis=-1)\n",
        "\n",
        "    output = jnp.cumsum(output, axis=0)+p_0[month-1]/K\n",
        "    output=output.at[-1].set(output[-1]- payoff)\n",
        "    delta_pnl_evolutions[month] = np.array(output)"
      ]
    },
    {
      "cell_type": "code",
      "execution_count": null,
      "metadata": {
        "id": "y6BYQ5jlK8Yg",
        "outputId": "fe68fc23-8bf3-44cd-cfa1-98f02cf7de32"
      },
      "outputs": [
        {
          "name": "stdout",
          "output_type": "stream",
          "text": [
            "[[[1 2 5]\n",
            "  [3 3 3]]]\n"
          ]
        }
      ],
      "source": [
        "print(unit)"
      ]
    },
    {
      "cell_type": "code",
      "execution_count": null,
      "metadata": {
        "id": "WIiX1zgEK8Yg"
      },
      "outputs": [],
      "source": [
        "#with open('pnldelta.pkl', 'wb') as f:\n",
        "#    pickle.dump(delta_pnl_evolutions, f)\n",
        "#with open('pnldelta.pkl', 'rb') as f:\n",
        "  #  delta_pnl_evolutions= pickle.load(f)"
      ]
    },
    {
      "cell_type": "code",
      "execution_count": null,
      "metadata": {
        "id": "HFnHDho-K8Yg"
      },
      "outputs": [],
      "source": [
        "months = [\n",
        "    \"Jan\",\n",
        "    \"Feb\",\n",
        "    \"Mar\",\n",
        "    \"Apr\",\n",
        "    \"May\",\n",
        "    \"Jun\",\n",
        "    \"Jul\",\n",
        "    \"Aug\",\n",
        "    \"Sep\",\n",
        "    \"Oct\",\n",
        "    \"Nov\",\n",
        "    \"Dec\",\n",
        "]\n",
        "index = [0]\n",
        "for month in range(1, 12):\n",
        "    a = index[-1] + len(delta_pnl_evolutions[month])\n",
        "    index.append(a)"
      ]
    },
    {
      "cell_type": "code",
      "execution_count": null,
      "metadata": {
        "id": "91nDJPt5K8Yg",
        "outputId": "d4b20415-74b4-422a-85b5-21e2b11172d7"
      },
      "outputs": [
        {
          "data": {
            "text/plain": [
              "<matplotlib.legend.Legend at 0x45f2175c0>"
            ]
          },
          "execution_count": 119,
          "metadata": {},
          "output_type": "execute_result"
        },
        {
          "data": {
            "image/png": "[encoded data removed]",
            "text/plain": [
              "<Figure size 600x400 with 1 Axes>"
            ]
          },
          "metadata": {},
          "output_type": "display_data"
        }
      ],
      "source": [
        "fig, ax1 = plt.subplots(1, 1, figsize=(6, 4))\n",
        "ax1.plot(\n",
        "    np.zeros_like(np.concatenate(list(pnl_evolutions.values()))),\n",
        "    linestyle=\"--\",\n",
        "    color=\"gray\",\n",
        "    linewidth=1.5,\n",
        ")\n",
        "\n",
        "ax1.plot(\n",
        "    np.concatenate(list(pnl_evolutions.values())),\n",
        "    linewidth=1.5,\n",
        "    label=\"rSig Hedger\",\n",
        "    alpha=0.9,\n",
        ")\n",
        "#ax1.plot(\n",
        "#    np.concatenate(list(delta_pnl_evolutions.values())),\n",
        "#    linewidth=1.5,\n",
        "#    label=\"Delta Hedge\",\n",
        "#    alpha=0.9,\n",
        "#)\n",
        "#ax1.plot(\n",
        "#    np.concatenate(list(no_evolutions.values())),\n",
        "#    linewidth=1.5,\n",
        "#    label=\"No hedge\",\n",
        "#    alpha=0.5,\n",
        "#)\n",
        "ax1.plot(\n",
        "    np.concatenate(list(deephedger_pnl_evolutions.values())),\n",
        "    linewidth=1.5,\n",
        "    label=\"RNN\",\n",
        "    alpha=0.8,\n",
        ")\n",
        "ax1.plot(np.concatenate(list(loaded_sigpl.values())),\n",
        "    linewidth=1.5,\n",
        "    label=\"Sig\",\n",
        "    alpha=0.8,\n",
        ")\n",
        "ax1.xaxis.grid(True)\n",
        "# plt.grid(True)\n",
        "plt.xticks(ticks=index, labels=months)\n",
        "plt.xlim(left=-2, right=20 * 12)\n",
        "plt.ylabel(\"PnL\")\n",
        "plt.legend()"
      ]
    },
    {
      "cell_type": "code",
      "execution_count": null,
      "metadata": {
        "id": "L02_Vj3OK8Yg"
      },
      "outputs": [],
      "source": [
        "fig.savefig(\"/Users/fjiang/Downloads/pnl_evolution_sigvsrnn.png\", bbox_inches=\"tight\")"
      ]
    },
    {
      "cell_type": "code",
      "execution_count": null,
      "metadata": {
        "id": "LmTMxjISK8Yg",
        "outputId": "cfa19c34-a2d4-4e69-c5b6-9f44e01ddd9b"
      },
      "outputs": [
        {
          "name": "stdout",
          "output_type": "stream",
          "text": [
            "[0.00250626 0.00229141 0.00253072 0.00223738 0.00213712 0.00200759\n",
            " 0.00226861 0.0020737  0.00248044 0.00298585 0.00318511 0.00303926\n",
            " 0.00242973 0.00258649 0.00300679 0.00291544 0.00230232 0.00231777\n",
            " 0.00241697 0.00213921 0.00204233 0.00224343 0.00216783 0.00196288\n",
            " 0.00199679 0.00191938 0.00194965 0.00216957 0.00170578 0.00183124]\n",
            "[0.1963 0.1857 0.2103 0.221  0.2155 0.2116 0.2437 0.2426 0.2182 0.227\n",
            " 0.2217 0.2137 0.2032 0.2268 0.2821 0.2702 0.3352 0.316  0.2999 0.334 ]\n"
          ]
        }
      ],
      "source": [
        "# make dummy model\n",
        "#loss_fn = QuadraticLoss(p0=22)\n",
        "stock = RoughBergomiStock(\n",
        "    hurst=0.05,\n",
        "    rho=-0.837,\n",
        "    eta=2.235,\n",
        "    xi=0.05**2,\n",
        "    cost=0,\n",
        "    dt=1.0 / 365,\n",
        "    forward_offset=15.0 / 365,\n",
        ")\n",
        "init_state = (100, stock.xi, None)\n",
        "\n",
        "derivative = EuropeanOption(\n",
        "    underlier=stock,\n",
        "    call=True,\n",
        "    strike=100,\n",
        "    maturity=30.0 / 365,\n",
        ")\n",
        "\n",
        "vix = VIX(stock, maturity=30.0 / 365)\n",
        "hedge = [derivative, vix]\n",
        "\n",
        "model = SigHedger(\n",
        "    derivative=derivative,\n",
        "            inputs=inputs,\n",
        "            hedge=hedge,\n",
        "            criterion=loss_fn,\n",
        "            signature_dim=6,\n",
        "            n_attn_heads=n_attn_heads,\n",
        "            n_attn_blocks=n_attn_blocks,\n",
        "            order=1,\n",
        "            #randomness= rho**2+hurst,\n",
        "            rng_key=model_key,\n",
        ")\n",
        "simulated_data = model.derivative.simulate(rng_key= key, init_state= init_state)\n",
        "#VIX(stock).price(simulated_data)\n",
        "print(simulated_data[\"forward_variance\"])\n",
        "month = 4\n",
        "df_month = df_spx_vix[df_spx_vix.DATE.dt.month == month].dropna()\n",
        "spx = df_month[\"SPX\"].to_numpy()\n",
        "vix = df_month[\"VIX\"].to_numpy()\n",
        "K = spx[0]\n",
        "moneyness = spx / K\n",
        "var_swap = vix / 100\n",
        "print(var_swap)"
      ]
    },
    {
      "cell_type": "code",
      "execution_count": null,
      "metadata": {
        "id": "-6Hscc6yK8Yg",
        "outputId": "13ae7b6f-f399-4d17-a4fb-62bd0955cd13"
      },
      "outputs": [
        {
          "name": "stdout",
          "output_type": "stream",
          "text": [
            "[0.1963 0.1857 0.2103 0.221  0.2155 0.2116 0.2437 0.2426 0.2182 0.227\n",
            " 0.2217 0.2137 0.2032 0.2268 0.2821 0.2702 0.3352 0.316  0.2999 0.334 ]\n"
          ]
        }
      ],
      "source": []
    },
    {
      "cell_type": "code",
      "execution_count": null,
      "metadata": {
        "id": "eC-XQo_CK8Yg"
      },
      "outputs": [],
      "source": []
    }
  ],
  "metadata": {
    "kernelspec": {
      "display_name": "Python 3 (ipykernel)",
      "language": "python",
      "name": "python3"
    },
    "language_info": {
      "codemirror_mode": {
        "name": "ipython",
        "version": 3
      },
      "file_extension": ".py",
      "mimetype": "text/x-python",
      "name": "python",
      "nbconvert_exporter": "python",
      "pygments_lexer": "ipython3",
      "version": "3.12.9"
    },
    "colab": {
      "provenance": []
    }
  },
  "nbformat": 4,
  "nbformat_minor": 0
}